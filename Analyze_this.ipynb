{
 "cells": [
  {
   "cell_type": "code",
   "execution_count": 1,
   "metadata": {
    "collapsed": true
   },
   "outputs": [],
   "source": [
    "import pandas as pd \n",
    "import numpy as np \n",
    "\n",
    "from sklearn import preprocessing\n",
    "from sklearn import metrics\n",
    "\n",
    "from sklearn.utils import resample\n",
    "\n",
    "from sklearn.model_selection import train_test_split\n",
    "from sklearn.linear_model import LogisticRegression\n",
    "from sklearn.tree import DecisionTreeClassifier\n",
    "from sklearn.svm import SVC\n",
    "\n",
    "import matplotlib.pyplot as plt \n",
    "import seaborn as sns"
   ]
  },
  {
   "cell_type": "code",
   "execution_count": 2,
   "metadata": {
    "collapsed": true
   },
   "outputs": [],
   "source": [
    "df= pd.read_csv(\"Training_Dataset.csv\")"
   ]
  },
  {
   "cell_type": "code",
   "execution_count": 3,
   "metadata": {},
   "outputs": [
    {
     "data": {
      "text/html": [
       "<div>\n",
       "<style>\n",
       "    .dataframe thead tr:only-child th {\n",
       "        text-align: right;\n",
       "    }\n",
       "\n",
       "    .dataframe thead th {\n",
       "        text-align: left;\n",
       "    }\n",
       "\n",
       "    .dataframe tbody tr th {\n",
       "        vertical-align: top;\n",
       "    }\n",
       "</style>\n",
       "<table border=\"1\" class=\"dataframe\">\n",
       "  <thead>\n",
       "    <tr style=\"text-align: right;\">\n",
       "      <th></th>\n",
       "      <th>cm_key</th>\n",
       "      <th>mvar1</th>\n",
       "      <th>mvar2</th>\n",
       "      <th>mvar3</th>\n",
       "      <th>mvar4</th>\n",
       "      <th>mvar5</th>\n",
       "      <th>mvar6</th>\n",
       "      <th>mvar7</th>\n",
       "      <th>mvar8</th>\n",
       "      <th>mvar9</th>\n",
       "      <th>...</th>\n",
       "      <th>mvar42</th>\n",
       "      <th>mvar43</th>\n",
       "      <th>mvar44</th>\n",
       "      <th>mvar45</th>\n",
       "      <th>mvar46</th>\n",
       "      <th>mvar47</th>\n",
       "      <th>mvar48</th>\n",
       "      <th>mvar49</th>\n",
       "      <th>mvar50</th>\n",
       "      <th>mvar51</th>\n",
       "    </tr>\n",
       "  </thead>\n",
       "  <tbody>\n",
       "    <tr>\n",
       "      <th>0</th>\n",
       "      <td>1</td>\n",
       "      <td>Charge</td>\n",
       "      <td>0</td>\n",
       "      <td>106920</td>\n",
       "      <td>4</td>\n",
       "      <td>18</td>\n",
       "      <td>970</td>\n",
       "      <td>0.7969</td>\n",
       "      <td>0.1831</td>\n",
       "      <td>337236</td>\n",
       "      <td>...</td>\n",
       "      <td>0</td>\n",
       "      <td>0</td>\n",
       "      <td>0</td>\n",
       "      <td>0</td>\n",
       "      <td>0</td>\n",
       "      <td>0</td>\n",
       "      <td>1</td>\n",
       "      <td>0</td>\n",
       "      <td>0</td>\n",
       "      <td>0</td>\n",
       "    </tr>\n",
       "    <tr>\n",
       "      <th>1</th>\n",
       "      <td>2</td>\n",
       "      <td>Charge</td>\n",
       "      <td>2</td>\n",
       "      <td>0</td>\n",
       "      <td>4</td>\n",
       "      <td>19</td>\n",
       "      <td>1030</td>\n",
       "      <td>0.0678</td>\n",
       "      <td>0.0000</td>\n",
       "      <td>2918974</td>\n",
       "      <td>...</td>\n",
       "      <td>0</td>\n",
       "      <td>0</td>\n",
       "      <td>0</td>\n",
       "      <td>0</td>\n",
       "      <td>1</td>\n",
       "      <td>0</td>\n",
       "      <td>0</td>\n",
       "      <td>0</td>\n",
       "      <td>0</td>\n",
       "      <td>0</td>\n",
       "    </tr>\n",
       "    <tr>\n",
       "      <th>2</th>\n",
       "      <td>3</td>\n",
       "      <td>Charge</td>\n",
       "      <td>2</td>\n",
       "      <td>399168</td>\n",
       "      <td>4</td>\n",
       "      <td>35</td>\n",
       "      <td>327</td>\n",
       "      <td>0.7551</td>\n",
       "      <td>0.2986</td>\n",
       "      <td>498656</td>\n",
       "      <td>...</td>\n",
       "      <td>0</td>\n",
       "      <td>0</td>\n",
       "      <td>0</td>\n",
       "      <td>0</td>\n",
       "      <td>0</td>\n",
       "      <td>0</td>\n",
       "      <td>1</td>\n",
       "      <td>0</td>\n",
       "      <td>0</td>\n",
       "      <td>0</td>\n",
       "    </tr>\n",
       "    <tr>\n",
       "      <th>3</th>\n",
       "      <td>4</td>\n",
       "      <td>Charge</td>\n",
       "      <td>0</td>\n",
       "      <td>267300</td>\n",
       "      <td>4</td>\n",
       "      <td>274</td>\n",
       "      <td>1258</td>\n",
       "      <td>0.7969</td>\n",
       "      <td>0.5297</td>\n",
       "      <td>2480074</td>\n",
       "      <td>...</td>\n",
       "      <td>0</td>\n",
       "      <td>1</td>\n",
       "      <td>0</td>\n",
       "      <td>0</td>\n",
       "      <td>0</td>\n",
       "      <td>0</td>\n",
       "      <td>1</td>\n",
       "      <td>0</td>\n",
       "      <td>0</td>\n",
       "      <td>1</td>\n",
       "    </tr>\n",
       "    <tr>\n",
       "      <th>4</th>\n",
       "      <td>5</td>\n",
       "      <td>Charge</td>\n",
       "      <td>0</td>\n",
       "      <td>213840</td>\n",
       "      <td>6</td>\n",
       "      <td>1</td>\n",
       "      <td>0</td>\n",
       "      <td>2.3238</td>\n",
       "      <td>0.0000</td>\n",
       "      <td>2918974</td>\n",
       "      <td>...</td>\n",
       "      <td>0</td>\n",
       "      <td>0</td>\n",
       "      <td>0</td>\n",
       "      <td>0</td>\n",
       "      <td>1</td>\n",
       "      <td>0</td>\n",
       "      <td>0</td>\n",
       "      <td>1</td>\n",
       "      <td>0</td>\n",
       "      <td>0</td>\n",
       "    </tr>\n",
       "  </tbody>\n",
       "</table>\n",
       "<p>5 rows × 52 columns</p>\n",
       "</div>"
      ],
      "text/plain": [
       "   cm_key         mvar1  mvar2   mvar3  mvar4  mvar5  mvar6   mvar7   mvar8  \\\n",
       "0       1  Charge            0  106920      4     18    970  0.7969  0.1831   \n",
       "1       2  Charge            2       0      4     19   1030  0.0678  0.0000   \n",
       "2       3  Charge            2  399168      4     35    327  0.7551  0.2986   \n",
       "3       4  Charge            0  267300      4    274   1258  0.7969  0.5297   \n",
       "4       5  Charge            0  213840      6      1      0  2.3238  0.0000   \n",
       "\n",
       "     mvar9   ...    mvar42  mvar43 mvar44  mvar45  mvar46  mvar47  mvar48  \\\n",
       "0   337236   ...         0       0      0       0       0       0       1   \n",
       "1  2918974   ...         0       0      0       0       1       0       0   \n",
       "2   498656   ...         0       0      0       0       0       0       1   \n",
       "3  2480074   ...         0       1      0       0       0       0       1   \n",
       "4  2918974   ...         0       0      0       0       1       0       0   \n",
       "\n",
       "   mvar49  mvar50  mvar51  \n",
       "0       0       0       0  \n",
       "1       0       0       0  \n",
       "2       0       0       0  \n",
       "3       0       0       1  \n",
       "4       1       0       0  \n",
       "\n",
       "[5 rows x 52 columns]"
      ]
     },
     "execution_count": 3,
     "metadata": {},
     "output_type": "execute_result"
    }
   ],
   "source": [
    "df.head()"
   ]
  },
  {
   "cell_type": "code",
   "execution_count": 4,
   "metadata": {
    "scrolled": false
   },
   "outputs": [
    {
     "name": "stderr",
     "output_type": "stream",
     "text": [
      "/home/apoorva/anaconda2/lib/python2.7/site-packages/ipykernel_launcher.py:1: DeprecationWarning: \n",
      ".ix is deprecated. Please use\n",
      ".loc for label based indexing or\n",
      ".iloc for positional indexing\n",
      "\n",
      "See the documentation here:\n",
      "http://pandas.pydata.org/pandas-docs/stable/indexing.html#deprecate_ix\n",
      "  \"\"\"Entry point for launching an IPython kernel.\n"
     ]
    },
    {
     "data": {
      "text/html": [
       "<div>\n",
       "<style>\n",
       "    .dataframe thead tr:only-child th {\n",
       "        text-align: right;\n",
       "    }\n",
       "\n",
       "    .dataframe thead th {\n",
       "        text-align: left;\n",
       "    }\n",
       "\n",
       "    .dataframe tbody tr th {\n",
       "        vertical-align: top;\n",
       "    }\n",
       "</style>\n",
       "<table border=\"1\" class=\"dataframe\">\n",
       "  <thead>\n",
       "    <tr style=\"text-align: right;\">\n",
       "      <th></th>\n",
       "      <th>cm_key</th>\n",
       "      <th>mvar2</th>\n",
       "      <th>mvar3</th>\n",
       "      <th>mvar4</th>\n",
       "      <th>mvar5</th>\n",
       "      <th>mvar6</th>\n",
       "      <th>mvar7</th>\n",
       "      <th>mvar8</th>\n",
       "      <th>mvar9</th>\n",
       "      <th>mvar10</th>\n",
       "      <th>mvar11</th>\n",
       "      <th>mvar13</th>\n",
       "      <th>mvar14</th>\n",
       "      <th>mvar15</th>\n",
       "      <th>mvar16</th>\n",
       "      <th>mvar17</th>\n",
       "      <th>mvar18</th>\n",
       "      <th>mvar19</th>\n",
       "    </tr>\n",
       "  </thead>\n",
       "  <tbody>\n",
       "    <tr>\n",
       "      <th>count</th>\n",
       "      <td>40000.00000</td>\n",
       "      <td>40000.000000</td>\n",
       "      <td>40000.000000</td>\n",
       "      <td>40000.000000</td>\n",
       "      <td>40000.000000</td>\n",
       "      <td>40000.000000</td>\n",
       "      <td>40000.000000</td>\n",
       "      <td>40000.000000</td>\n",
       "      <td>4.000000e+04</td>\n",
       "      <td>40000.000000</td>\n",
       "      <td>40000.000000</td>\n",
       "      <td>40000.000000</td>\n",
       "      <td>40000.000000</td>\n",
       "      <td>40000.000000</td>\n",
       "      <td>4.000000e+04</td>\n",
       "      <td>4.000000e+04</td>\n",
       "      <td>4.000000e+04</td>\n",
       "      <td>4.000000e+04</td>\n",
       "    </tr>\n",
       "    <tr>\n",
       "      <th>mean</th>\n",
       "      <td>20000.50000</td>\n",
       "      <td>1.117150</td>\n",
       "      <td>45507.619525</td>\n",
       "      <td>3.224150</td>\n",
       "      <td>89.264475</td>\n",
       "      <td>906.684950</td>\n",
       "      <td>0.726782</td>\n",
       "      <td>0.167726</td>\n",
       "      <td>1.998524e+06</td>\n",
       "      <td>0.329925</td>\n",
       "      <td>3.384588</td>\n",
       "      <td>11.993125</td>\n",
       "      <td>1.046025</td>\n",
       "      <td>0.329175</td>\n",
       "      <td>1.485472e+03</td>\n",
       "      <td>1.388516e+03</td>\n",
       "      <td>8.541835e+02</td>\n",
       "      <td>9.433976e+02</td>\n",
       "    </tr>\n",
       "    <tr>\n",
       "      <th>std</th>\n",
       "      <td>11547.14972</td>\n",
       "      <td>1.656335</td>\n",
       "      <td>86013.548027</td>\n",
       "      <td>2.324337</td>\n",
       "      <td>92.247710</td>\n",
       "      <td>921.135812</td>\n",
       "      <td>1.262927</td>\n",
       "      <td>0.206095</td>\n",
       "      <td>3.838523e+06</td>\n",
       "      <td>0.470191</td>\n",
       "      <td>1.890469</td>\n",
       "      <td>3.274286</td>\n",
       "      <td>0.422328</td>\n",
       "      <td>0.772550</td>\n",
       "      <td>2.509461e+04</td>\n",
       "      <td>9.448546e+04</td>\n",
       "      <td>1.346391e+04</td>\n",
       "      <td>1.515594e+04</td>\n",
       "    </tr>\n",
       "    <tr>\n",
       "      <th>min</th>\n",
       "      <td>1.00000</td>\n",
       "      <td>0.000000</td>\n",
       "      <td>0.000000</td>\n",
       "      <td>0.000000</td>\n",
       "      <td>1.000000</td>\n",
       "      <td>0.000000</td>\n",
       "      <td>0.000100</td>\n",
       "      <td>0.000000</td>\n",
       "      <td>0.000000e+00</td>\n",
       "      <td>0.000000</td>\n",
       "      <td>0.000000</td>\n",
       "      <td>0.000000</td>\n",
       "      <td>0.000000</td>\n",
       "      <td>0.000000</td>\n",
       "      <td>0.000000e+00</td>\n",
       "      <td>0.000000e+00</td>\n",
       "      <td>0.000000e+00</td>\n",
       "      <td>0.000000e+00</td>\n",
       "    </tr>\n",
       "    <tr>\n",
       "      <th>25%</th>\n",
       "      <td>10000.75000</td>\n",
       "      <td>0.000000</td>\n",
       "      <td>0.000000</td>\n",
       "      <td>2.000000</td>\n",
       "      <td>16.000000</td>\n",
       "      <td>327.000000</td>\n",
       "      <td>0.106000</td>\n",
       "      <td>0.000000</td>\n",
       "      <td>1.267680e+05</td>\n",
       "      <td>0.000000</td>\n",
       "      <td>1.753100</td>\n",
       "      <td>10.000000</td>\n",
       "      <td>1.000000</td>\n",
       "      <td>0.000000</td>\n",
       "      <td>0.000000e+00</td>\n",
       "      <td>0.000000e+00</td>\n",
       "      <td>0.000000e+00</td>\n",
       "      <td>0.000000e+00</td>\n",
       "    </tr>\n",
       "    <tr>\n",
       "      <th>50%</th>\n",
       "      <td>20000.50000</td>\n",
       "      <td>0.000000</td>\n",
       "      <td>0.000000</td>\n",
       "      <td>3.000000</td>\n",
       "      <td>53.000000</td>\n",
       "      <td>586.000000</td>\n",
       "      <td>0.382000</td>\n",
       "      <td>0.115500</td>\n",
       "      <td>7.368390e+05</td>\n",
       "      <td>0.000000</td>\n",
       "      <td>3.220350</td>\n",
       "      <td>12.000000</td>\n",
       "      <td>1.000000</td>\n",
       "      <td>0.000000</td>\n",
       "      <td>5.708000e+01</td>\n",
       "      <td>2.261500e+01</td>\n",
       "      <td>1.780000e+01</td>\n",
       "      <td>1.332000e+01</td>\n",
       "    </tr>\n",
       "    <tr>\n",
       "      <th>75%</th>\n",
       "      <td>30000.25000</td>\n",
       "      <td>2.000000</td>\n",
       "      <td>57736.000000</td>\n",
       "      <td>4.000000</td>\n",
       "      <td>134.000000</td>\n",
       "      <td>1197.000000</td>\n",
       "      <td>0.796900</td>\n",
       "      <td>0.268200</td>\n",
       "      <td>2.918974e+06</td>\n",
       "      <td>1.000000</td>\n",
       "      <td>5.011550</td>\n",
       "      <td>14.000000</td>\n",
       "      <td>1.000000</td>\n",
       "      <td>0.000000</td>\n",
       "      <td>4.011750e+02</td>\n",
       "      <td>2.123700e+02</td>\n",
       "      <td>1.960200e+02</td>\n",
       "      <td>1.801650e+02</td>\n",
       "    </tr>\n",
       "    <tr>\n",
       "      <th>max</th>\n",
       "      <td>40000.00000</td>\n",
       "      <td>11.000000</td>\n",
       "      <td>434629.000000</td>\n",
       "      <td>12.000000</td>\n",
       "      <td>355.000000</td>\n",
       "      <td>4830.000000</td>\n",
       "      <td>10.000000</td>\n",
       "      <td>0.883100</td>\n",
       "      <td>3.420702e+07</td>\n",
       "      <td>1.000000</td>\n",
       "      <td>7.001000</td>\n",
       "      <td>23.000000</td>\n",
       "      <td>9.000000</td>\n",
       "      <td>5.000000</td>\n",
       "      <td>3.722901e+06</td>\n",
       "      <td>1.862996e+07</td>\n",
       "      <td>1.845235e+06</td>\n",
       "      <td>1.974546e+06</td>\n",
       "    </tr>\n",
       "  </tbody>\n",
       "</table>\n",
       "</div>"
      ],
      "text/plain": [
       "            cm_key         mvar2          mvar3         mvar4         mvar5  \\\n",
       "count  40000.00000  40000.000000   40000.000000  40000.000000  40000.000000   \n",
       "mean   20000.50000      1.117150   45507.619525      3.224150     89.264475   \n",
       "std    11547.14972      1.656335   86013.548027      2.324337     92.247710   \n",
       "min        1.00000      0.000000       0.000000      0.000000      1.000000   \n",
       "25%    10000.75000      0.000000       0.000000      2.000000     16.000000   \n",
       "50%    20000.50000      0.000000       0.000000      3.000000     53.000000   \n",
       "75%    30000.25000      2.000000   57736.000000      4.000000    134.000000   \n",
       "max    40000.00000     11.000000  434629.000000     12.000000    355.000000   \n",
       "\n",
       "              mvar6         mvar7         mvar8         mvar9        mvar10  \\\n",
       "count  40000.000000  40000.000000  40000.000000  4.000000e+04  40000.000000   \n",
       "mean     906.684950      0.726782      0.167726  1.998524e+06      0.329925   \n",
       "std      921.135812      1.262927      0.206095  3.838523e+06      0.470191   \n",
       "min        0.000000      0.000100      0.000000  0.000000e+00      0.000000   \n",
       "25%      327.000000      0.106000      0.000000  1.267680e+05      0.000000   \n",
       "50%      586.000000      0.382000      0.115500  7.368390e+05      0.000000   \n",
       "75%     1197.000000      0.796900      0.268200  2.918974e+06      1.000000   \n",
       "max     4830.000000     10.000000      0.883100  3.420702e+07      1.000000   \n",
       "\n",
       "             mvar11        mvar13        mvar14        mvar15        mvar16  \\\n",
       "count  40000.000000  40000.000000  40000.000000  40000.000000  4.000000e+04   \n",
       "mean       3.384588     11.993125      1.046025      0.329175  1.485472e+03   \n",
       "std        1.890469      3.274286      0.422328      0.772550  2.509461e+04   \n",
       "min        0.000000      0.000000      0.000000      0.000000  0.000000e+00   \n",
       "25%        1.753100     10.000000      1.000000      0.000000  0.000000e+00   \n",
       "50%        3.220350     12.000000      1.000000      0.000000  5.708000e+01   \n",
       "75%        5.011550     14.000000      1.000000      0.000000  4.011750e+02   \n",
       "max        7.001000     23.000000      9.000000      5.000000  3.722901e+06   \n",
       "\n",
       "             mvar17        mvar18        mvar19  \n",
       "count  4.000000e+04  4.000000e+04  4.000000e+04  \n",
       "mean   1.388516e+03  8.541835e+02  9.433976e+02  \n",
       "std    9.448546e+04  1.346391e+04  1.515594e+04  \n",
       "min    0.000000e+00  0.000000e+00  0.000000e+00  \n",
       "25%    0.000000e+00  0.000000e+00  0.000000e+00  \n",
       "50%    2.261500e+01  1.780000e+01  1.332000e+01  \n",
       "75%    2.123700e+02  1.960200e+02  1.801650e+02  \n",
       "max    1.862996e+07  1.845235e+06  1.974546e+06  "
      ]
     },
     "execution_count": 4,
     "metadata": {},
     "output_type": "execute_result"
    }
   ],
   "source": [
    "df.ix[:,:20].describe()"
   ]
  },
  {
   "cell_type": "code",
   "execution_count": 5,
   "metadata": {},
   "outputs": [
    {
     "data": {
      "text/html": [
       "<div>\n",
       "<style>\n",
       "    .dataframe thead tr:only-child th {\n",
       "        text-align: right;\n",
       "    }\n",
       "\n",
       "    .dataframe thead th {\n",
       "        text-align: left;\n",
       "    }\n",
       "\n",
       "    .dataframe tbody tr th {\n",
       "        vertical-align: top;\n",
       "    }\n",
       "</style>\n",
       "<table border=\"1\" class=\"dataframe\">\n",
       "  <thead>\n",
       "    <tr style=\"text-align: right;\">\n",
       "      <th></th>\n",
       "      <th>mvar20</th>\n",
       "      <th>mvar21</th>\n",
       "      <th>mvar22</th>\n",
       "      <th>mvar23</th>\n",
       "      <th>mvar24</th>\n",
       "      <th>mvar25</th>\n",
       "      <th>mvar26</th>\n",
       "      <th>mvar27</th>\n",
       "      <th>mvar28</th>\n",
       "      <th>mvar29</th>\n",
       "      <th>mvar30</th>\n",
       "      <th>mvar31</th>\n",
       "      <th>mvar32</th>\n",
       "      <th>mvar33</th>\n",
       "      <th>mvar34</th>\n",
       "      <th>mvar35</th>\n",
       "      <th>mvar36</th>\n",
       "      <th>mvar37</th>\n",
       "      <th>mvar38</th>\n",
       "      <th>mvar39</th>\n",
       "    </tr>\n",
       "  </thead>\n",
       "  <tbody>\n",
       "    <tr>\n",
       "      <th>count</th>\n",
       "      <td>4.000000e+04</td>\n",
       "      <td>4.000000e+04</td>\n",
       "      <td>4.000000e+04</td>\n",
       "      <td>4.000000e+04</td>\n",
       "      <td>4.000000e+04</td>\n",
       "      <td>40000.000000</td>\n",
       "      <td>40000.000000</td>\n",
       "      <td>40000.000000</td>\n",
       "      <td>40000.000000</td>\n",
       "      <td>40000.000000</td>\n",
       "      <td>40000.000000</td>\n",
       "      <td>40000.000000</td>\n",
       "      <td>4.000000e+04</td>\n",
       "      <td>4.000000e+04</td>\n",
       "      <td>4.000000e+04</td>\n",
       "      <td>4.000000e+04</td>\n",
       "      <td>4.000000e+04</td>\n",
       "      <td>4.000000e+04</td>\n",
       "      <td>4.000000e+04</td>\n",
       "      <td>4.000000e+04</td>\n",
       "    </tr>\n",
       "    <tr>\n",
       "      <th>mean</th>\n",
       "      <td>2.886965e+03</td>\n",
       "      <td>1.754567e+03</td>\n",
       "      <td>1.895592e+03</td>\n",
       "      <td>1.646280e+03</td>\n",
       "      <td>1.158787e+03</td>\n",
       "      <td>1142.080482</td>\n",
       "      <td>1113.819778</td>\n",
       "      <td>1187.048064</td>\n",
       "      <td>406.459045</td>\n",
       "      <td>395.791140</td>\n",
       "      <td>377.963365</td>\n",
       "      <td>392.257667</td>\n",
       "      <td>3.373803e+04</td>\n",
       "      <td>3.638920e+04</td>\n",
       "      <td>3.211148e+04</td>\n",
       "      <td>3.106935e+04</td>\n",
       "      <td>7.921775e+04</td>\n",
       "      <td>4.840110e+04</td>\n",
       "      <td>4.590302e+04</td>\n",
       "      <td>4.625620e+04</td>\n",
       "    </tr>\n",
       "    <tr>\n",
       "      <th>std</th>\n",
       "      <td>2.566659e+04</td>\n",
       "      <td>1.543692e+04</td>\n",
       "      <td>2.316176e+04</td>\n",
       "      <td>1.635910e+04</td>\n",
       "      <td>1.105519e+04</td>\n",
       "      <td>9740.096504</td>\n",
       "      <td>9829.297144</td>\n",
       "      <td>10342.186952</td>\n",
       "      <td>2485.528218</td>\n",
       "      <td>2580.799331</td>\n",
       "      <td>2629.362739</td>\n",
       "      <td>2960.379369</td>\n",
       "      <td>2.957924e+05</td>\n",
       "      <td>7.292901e+05</td>\n",
       "      <td>4.881734e+05</td>\n",
       "      <td>5.104114e+05</td>\n",
       "      <td>4.497999e+05</td>\n",
       "      <td>3.085971e+05</td>\n",
       "      <td>2.605690e+05</td>\n",
       "      <td>5.075667e+05</td>\n",
       "    </tr>\n",
       "    <tr>\n",
       "      <th>min</th>\n",
       "      <td>0.000000e+00</td>\n",
       "      <td>0.000000e+00</td>\n",
       "      <td>0.000000e+00</td>\n",
       "      <td>0.000000e+00</td>\n",
       "      <td>0.000000e+00</td>\n",
       "      <td>0.000000</td>\n",
       "      <td>0.000000</td>\n",
       "      <td>0.000000</td>\n",
       "      <td>0.000000</td>\n",
       "      <td>0.000000</td>\n",
       "      <td>0.000000</td>\n",
       "      <td>0.000000</td>\n",
       "      <td>-1.764531e+04</td>\n",
       "      <td>-1.175896e+04</td>\n",
       "      <td>-9.355530e+03</td>\n",
       "      <td>-1.018504e+04</td>\n",
       "      <td>0.000000e+00</td>\n",
       "      <td>0.000000e+00</td>\n",
       "      <td>0.000000e+00</td>\n",
       "      <td>0.000000e+00</td>\n",
       "    </tr>\n",
       "    <tr>\n",
       "      <th>25%</th>\n",
       "      <td>0.000000e+00</td>\n",
       "      <td>0.000000e+00</td>\n",
       "      <td>0.000000e+00</td>\n",
       "      <td>0.000000e+00</td>\n",
       "      <td>0.000000e+00</td>\n",
       "      <td>0.000000</td>\n",
       "      <td>0.000000</td>\n",
       "      <td>0.000000</td>\n",
       "      <td>0.000000</td>\n",
       "      <td>0.000000</td>\n",
       "      <td>0.000000</td>\n",
       "      <td>0.000000</td>\n",
       "      <td>0.000000e+00</td>\n",
       "      <td>0.000000e+00</td>\n",
       "      <td>0.000000e+00</td>\n",
       "      <td>0.000000e+00</td>\n",
       "      <td>9.370382e+03</td>\n",
       "      <td>4.945130e+03</td>\n",
       "      <td>4.336993e+03</td>\n",
       "      <td>3.746507e+03</td>\n",
       "    </tr>\n",
       "    <tr>\n",
       "      <th>50%</th>\n",
       "      <td>1.216800e+02</td>\n",
       "      <td>0.000000e+00</td>\n",
       "      <td>0.000000e+00</td>\n",
       "      <td>0.000000e+00</td>\n",
       "      <td>6.945500e+01</td>\n",
       "      <td>68.765000</td>\n",
       "      <td>67.640000</td>\n",
       "      <td>69.105000</td>\n",
       "      <td>0.000000</td>\n",
       "      <td>0.000000</td>\n",
       "      <td>0.000000</td>\n",
       "      <td>0.000000</td>\n",
       "      <td>0.000000e+00</td>\n",
       "      <td>0.000000e+00</td>\n",
       "      <td>0.000000e+00</td>\n",
       "      <td>0.000000e+00</td>\n",
       "      <td>2.547502e+04</td>\n",
       "      <td>1.473491e+04</td>\n",
       "      <td>1.360194e+04</td>\n",
       "      <td>1.261098e+04</td>\n",
       "    </tr>\n",
       "    <tr>\n",
       "      <th>75%</th>\n",
       "      <td>1.240168e+03</td>\n",
       "      <td>6.695200e+02</td>\n",
       "      <td>6.358150e+02</td>\n",
       "      <td>6.096175e+02</td>\n",
       "      <td>4.065750e+02</td>\n",
       "      <td>392.330000</td>\n",
       "      <td>398.950000</td>\n",
       "      <td>400.195000</td>\n",
       "      <td>132.470000</td>\n",
       "      <td>121.215000</td>\n",
       "      <td>95.640000</td>\n",
       "      <td>76.632500</td>\n",
       "      <td>1.567501e+04</td>\n",
       "      <td>1.468443e+04</td>\n",
       "      <td>1.332700e+04</td>\n",
       "      <td>1.239353e+04</td>\n",
       "      <td>6.855096e+04</td>\n",
       "      <td>4.018806e+04</td>\n",
       "      <td>3.869497e+04</td>\n",
       "      <td>3.668335e+04</td>\n",
       "    </tr>\n",
       "    <tr>\n",
       "      <th>max</th>\n",
       "      <td>2.311850e+06</td>\n",
       "      <td>1.493318e+06</td>\n",
       "      <td>2.357492e+06</td>\n",
       "      <td>1.451135e+06</td>\n",
       "      <td>1.236260e+06</td>\n",
       "      <td>858207.920000</td>\n",
       "      <td>943117.580000</td>\n",
       "      <td>680432.140000</td>\n",
       "      <td>178685.370000</td>\n",
       "      <td>198075.720000</td>\n",
       "      <td>203538.490000</td>\n",
       "      <td>289805.670000</td>\n",
       "      <td>4.884870e+07</td>\n",
       "      <td>9.996247e+07</td>\n",
       "      <td>8.725604e+07</td>\n",
       "      <td>9.261137e+07</td>\n",
       "      <td>5.410426e+07</td>\n",
       "      <td>3.339069e+07</td>\n",
       "      <td>3.574791e+07</td>\n",
       "      <td>8.716895e+07</td>\n",
       "    </tr>\n",
       "  </tbody>\n",
       "</table>\n",
       "</div>"
      ],
      "text/plain": [
       "             mvar20        mvar21        mvar22        mvar23        mvar24  \\\n",
       "count  4.000000e+04  4.000000e+04  4.000000e+04  4.000000e+04  4.000000e+04   \n",
       "mean   2.886965e+03  1.754567e+03  1.895592e+03  1.646280e+03  1.158787e+03   \n",
       "std    2.566659e+04  1.543692e+04  2.316176e+04  1.635910e+04  1.105519e+04   \n",
       "min    0.000000e+00  0.000000e+00  0.000000e+00  0.000000e+00  0.000000e+00   \n",
       "25%    0.000000e+00  0.000000e+00  0.000000e+00  0.000000e+00  0.000000e+00   \n",
       "50%    1.216800e+02  0.000000e+00  0.000000e+00  0.000000e+00  6.945500e+01   \n",
       "75%    1.240168e+03  6.695200e+02  6.358150e+02  6.096175e+02  4.065750e+02   \n",
       "max    2.311850e+06  1.493318e+06  2.357492e+06  1.451135e+06  1.236260e+06   \n",
       "\n",
       "              mvar25         mvar26         mvar27         mvar28  \\\n",
       "count   40000.000000   40000.000000   40000.000000   40000.000000   \n",
       "mean     1142.080482    1113.819778    1187.048064     406.459045   \n",
       "std      9740.096504    9829.297144   10342.186952    2485.528218   \n",
       "min         0.000000       0.000000       0.000000       0.000000   \n",
       "25%         0.000000       0.000000       0.000000       0.000000   \n",
       "50%        68.765000      67.640000      69.105000       0.000000   \n",
       "75%       392.330000     398.950000     400.195000     132.470000   \n",
       "max    858207.920000  943117.580000  680432.140000  178685.370000   \n",
       "\n",
       "              mvar29         mvar30         mvar31        mvar32  \\\n",
       "count   40000.000000   40000.000000   40000.000000  4.000000e+04   \n",
       "mean      395.791140     377.963365     392.257667  3.373803e+04   \n",
       "std      2580.799331    2629.362739    2960.379369  2.957924e+05   \n",
       "min         0.000000       0.000000       0.000000 -1.764531e+04   \n",
       "25%         0.000000       0.000000       0.000000  0.000000e+00   \n",
       "50%         0.000000       0.000000       0.000000  0.000000e+00   \n",
       "75%       121.215000      95.640000      76.632500  1.567501e+04   \n",
       "max    198075.720000  203538.490000  289805.670000  4.884870e+07   \n",
       "\n",
       "             mvar33        mvar34        mvar35        mvar36        mvar37  \\\n",
       "count  4.000000e+04  4.000000e+04  4.000000e+04  4.000000e+04  4.000000e+04   \n",
       "mean   3.638920e+04  3.211148e+04  3.106935e+04  7.921775e+04  4.840110e+04   \n",
       "std    7.292901e+05  4.881734e+05  5.104114e+05  4.497999e+05  3.085971e+05   \n",
       "min   -1.175896e+04 -9.355530e+03 -1.018504e+04  0.000000e+00  0.000000e+00   \n",
       "25%    0.000000e+00  0.000000e+00  0.000000e+00  9.370382e+03  4.945130e+03   \n",
       "50%    0.000000e+00  0.000000e+00  0.000000e+00  2.547502e+04  1.473491e+04   \n",
       "75%    1.468443e+04  1.332700e+04  1.239353e+04  6.855096e+04  4.018806e+04   \n",
       "max    9.996247e+07  8.725604e+07  9.261137e+07  5.410426e+07  3.339069e+07   \n",
       "\n",
       "             mvar38        mvar39  \n",
       "count  4.000000e+04  4.000000e+04  \n",
       "mean   4.590302e+04  4.625620e+04  \n",
       "std    2.605690e+05  5.075667e+05  \n",
       "min    0.000000e+00  0.000000e+00  \n",
       "25%    4.336993e+03  3.746507e+03  \n",
       "50%    1.360194e+04  1.261098e+04  \n",
       "75%    3.869497e+04  3.668335e+04  \n",
       "max    3.574791e+07  8.716895e+07  "
      ]
     },
     "execution_count": 5,
     "metadata": {},
     "output_type": "execute_result"
    }
   ],
   "source": [
    "df.ix[:,20:40].describe()"
   ]
  },
  {
   "cell_type": "code",
   "execution_count": 6,
   "metadata": {},
   "outputs": [
    {
     "data": {
      "text/plain": [
       "array([ 0,  2,  5,  1,  4,  3,  6,  8,  9, 10, 11,  7])"
      ]
     },
     "execution_count": 6,
     "metadata": {},
     "output_type": "execute_result"
    }
   ],
   "source": [
    "Family_size= df[\"mvar2\"].unique()\n",
    "Family_size"
   ]
  },
  {
   "cell_type": "code",
   "execution_count": 7,
   "metadata": {},
   "outputs": [
    {
     "data": {
      "text/plain": [
       "array([ 4,  6,  1,  3,  0,  5,  2,  8,  7, 12,  9, 10, 11])"
      ]
     },
     "execution_count": 7,
     "metadata": {},
     "output_type": "execute_result"
    }
   ],
   "source": [
    "Total_cards= df[\"mvar4\"].unique()\n",
    "Total_cards"
   ]
  },
  {
   "cell_type": "code",
   "execution_count": 8,
   "metadata": {},
   "outputs": [
    {
     "data": {
      "text/plain": [
       "1605"
      ]
     },
     "execution_count": 8,
     "metadata": {},
     "output_type": "execute_result"
    }
   ],
   "source": [
    "#Data not available for income\n",
    "df[\"cm_key\"][df.mvar9==0].count()"
   ]
  },
  {
   "cell_type": "code",
   "execution_count": 9,
   "metadata": {},
   "outputs": [
    {
     "data": {
      "text/plain": [
       "24354"
      ]
     },
     "execution_count": 9,
     "metadata": {},
     "output_type": "execute_result"
    }
   ],
   "source": [
    "#Data not available for Cosutumer Spending capacity\n",
    "df[\"cm_key\"][df.mvar3==0].count()"
   ]
  },
  {
   "cell_type": "code",
   "execution_count": 10,
   "metadata": {},
   "outputs": [
    {
     "data": {
      "image/png": "[encoded data removed]",
      "text/plain": [
       "<matplotlib.figure.Figure at 0x7fc68620fd50>"
      ]
     },
     "metadata": {},
     "output_type": "display_data"
    }
   ],
   "source": [
    "fig, (ax0,ax1) = plt.subplots(1,2,sharex=True)\n",
    "ax0.hist(df.mvar3)\n",
    "ax0.set(title='Costumer spending capacity', ylabel='No. of costumers')\n",
    "ax1.set(title='Costumer spending capacity>0')\n",
    "ax1.hist(df[\"mvar3\"][df.mvar3>0])\n",
    "plt.show()"
   ]
  },
  {
   "cell_type": "code",
   "execution_count": 11,
   "metadata": {},
   "outputs": [
    {
     "data": {
      "text/plain": [
       "mvar46    0.423623\n",
       "mvar47    0.296625\n",
       "mvar48    0.279752\n",
       "mvar49    0.081618\n",
       "mvar50    0.068963\n",
       "mvar51    0.080148\n",
       "dtype: float64"
      ]
     },
     "execution_count": 11,
     "metadata": {},
     "output_type": "execute_result"
    }
   ],
   "source": [
    "df.ix[:,46:][df.mvar3>0].sum()/df[\"cm_key\"][df.mvar3>0].count()"
   ]
  },
  {
   "cell_type": "code",
   "execution_count": 12,
   "metadata": {},
   "outputs": [
    {
     "data": {
      "text/plain": [
       "mvar46    0.427240\n",
       "mvar47    0.288043\n",
       "mvar48    0.284717\n",
       "mvar49    0.089102\n",
       "mvar50    0.064671\n",
       "mvar51    0.062536\n",
       "dtype: float64"
      ]
     },
     "execution_count": 12,
     "metadata": {},
     "output_type": "execute_result"
    }
   ],
   "source": [
    "df.ix[:,46:][df.mvar3==0].sum()/df[\"cm_key\"][df.mvar3==0].count()"
   ]
  },
  {
   "cell_type": "code",
   "execution_count": 13,
   "metadata": {},
   "outputs": [
    {
     "data": {
      "text/plain": [
       "mvar46    0.395309\n",
       "mvar47    0.297700\n",
       "mvar48    0.306991\n",
       "mvar49    0.080198\n",
       "mvar50    0.066125\n",
       "mvar51    0.083356\n",
       "dtype: float64"
      ]
     },
     "execution_count": 13,
     "metadata": {},
     "output_type": "execute_result"
    }
   ],
   "source": [
    "df.ix[:,46:][df.mvar3>df.mvar3.mean()].sum()/df[\"cm_key\"][df.mvar3>df.mvar3.mean()].count()"
   ]
  },
  {
   "cell_type": "code",
   "execution_count": 14,
   "metadata": {},
   "outputs": [
    {
     "data": {
      "text/plain": [
       "array(['Office supplies    ', 'Unknown            ', 'Misc services      ',\n",
       "       'Social services    ', 'Manufacturing      ', 'Entertainment      ',\n",
       "       'Construction       ', 'Apparel', 'Finance            ',\n",
       "       'Automotive         ', 'Personal services  ', 'Consumables        ',\n",
       "       'Household          ', 'Transport          ', 'Non durable goods  ',\n",
       "       'Durable goods      ', 'Produce            ', 'Mining             '], dtype=object)"
      ]
     },
     "execution_count": 14,
     "metadata": {},
     "output_type": "execute_result"
    }
   ],
   "source": [
    "df[\"mvar12\"].unique()"
   ]
  },
  {
   "cell_type": "code",
   "execution_count": 15,
   "metadata": {},
   "outputs": [
    {
     "data": {
      "text/html": [
       "<div>\n",
       "<style>\n",
       "    .dataframe thead tr:only-child th {\n",
       "        text-align: right;\n",
       "    }\n",
       "\n",
       "    .dataframe thead th {\n",
       "        text-align: left;\n",
       "    }\n",
       "\n",
       "    .dataframe tbody tr th {\n",
       "        vertical-align: top;\n",
       "    }\n",
       "</style>\n",
       "<table border=\"1\" class=\"dataframe\">\n",
       "  <thead>\n",
       "    <tr>\n",
       "      <th>mvar49</th>\n",
       "      <th colspan=\"3\" halign=\"left\">0</th>\n",
       "      <th>1</th>\n",
       "    </tr>\n",
       "    <tr>\n",
       "      <th>mvar50</th>\n",
       "      <th colspan=\"2\" halign=\"left\">0</th>\n",
       "      <th>1</th>\n",
       "      <th>0</th>\n",
       "    </tr>\n",
       "    <tr>\n",
       "      <th>mvar51</th>\n",
       "      <th>0</th>\n",
       "      <th>1</th>\n",
       "      <th>0</th>\n",
       "      <th>0</th>\n",
       "    </tr>\n",
       "    <tr>\n",
       "      <th>mvar12</th>\n",
       "      <th></th>\n",
       "      <th></th>\n",
       "      <th></th>\n",
       "      <th></th>\n",
       "    </tr>\n",
       "  </thead>\n",
       "  <tbody>\n",
       "    <tr>\n",
       "      <th>Apparel</th>\n",
       "      <td>326</td>\n",
       "      <td>19</td>\n",
       "      <td>18</td>\n",
       "      <td>17</td>\n",
       "    </tr>\n",
       "    <tr>\n",
       "      <th>Automotive</th>\n",
       "      <td>404</td>\n",
       "      <td>34</td>\n",
       "      <td>37</td>\n",
       "      <td>45</td>\n",
       "    </tr>\n",
       "    <tr>\n",
       "      <th>Construction</th>\n",
       "      <td>2391</td>\n",
       "      <td>221</td>\n",
       "      <td>245</td>\n",
       "      <td>347</td>\n",
       "    </tr>\n",
       "    <tr>\n",
       "      <th>Consumables</th>\n",
       "      <td>929</td>\n",
       "      <td>96</td>\n",
       "      <td>100</td>\n",
       "      <td>87</td>\n",
       "    </tr>\n",
       "    <tr>\n",
       "      <th>Durable goods</th>\n",
       "      <td>1351</td>\n",
       "      <td>87</td>\n",
       "      <td>102</td>\n",
       "      <td>149</td>\n",
       "    </tr>\n",
       "    <tr>\n",
       "      <th>Entertainment</th>\n",
       "      <td>1816</td>\n",
       "      <td>172</td>\n",
       "      <td>164</td>\n",
       "      <td>225</td>\n",
       "    </tr>\n",
       "    <tr>\n",
       "      <th>Finance</th>\n",
       "      <td>2255</td>\n",
       "      <td>214</td>\n",
       "      <td>180</td>\n",
       "      <td>236</td>\n",
       "    </tr>\n",
       "    <tr>\n",
       "      <th>Household</th>\n",
       "      <td>1885</td>\n",
       "      <td>150</td>\n",
       "      <td>164</td>\n",
       "      <td>174</td>\n",
       "    </tr>\n",
       "    <tr>\n",
       "      <th>Manufacturing</th>\n",
       "      <td>1430</td>\n",
       "      <td>78</td>\n",
       "      <td>113</td>\n",
       "      <td>187</td>\n",
       "    </tr>\n",
       "    <tr>\n",
       "      <th>Mining</th>\n",
       "      <td>42</td>\n",
       "      <td>2</td>\n",
       "      <td>0</td>\n",
       "      <td>10</td>\n",
       "    </tr>\n",
       "    <tr>\n",
       "      <th>Misc services</th>\n",
       "      <td>4253</td>\n",
       "      <td>410</td>\n",
       "      <td>322</td>\n",
       "      <td>455</td>\n",
       "    </tr>\n",
       "    <tr>\n",
       "      <th>Non durable goods</th>\n",
       "      <td>803</td>\n",
       "      <td>46</td>\n",
       "      <td>70</td>\n",
       "      <td>88</td>\n",
       "    </tr>\n",
       "    <tr>\n",
       "      <th>Office supplies</th>\n",
       "      <td>1698</td>\n",
       "      <td>143</td>\n",
       "      <td>159</td>\n",
       "      <td>197</td>\n",
       "    </tr>\n",
       "    <tr>\n",
       "      <th>Personal services</th>\n",
       "      <td>2202</td>\n",
       "      <td>244</td>\n",
       "      <td>217</td>\n",
       "      <td>258</td>\n",
       "    </tr>\n",
       "    <tr>\n",
       "      <th>Produce</th>\n",
       "      <td>510</td>\n",
       "      <td>45</td>\n",
       "      <td>56</td>\n",
       "      <td>64</td>\n",
       "    </tr>\n",
       "    <tr>\n",
       "      <th>Social services</th>\n",
       "      <td>3308</td>\n",
       "      <td>289</td>\n",
       "      <td>284</td>\n",
       "      <td>353</td>\n",
       "    </tr>\n",
       "    <tr>\n",
       "      <th>Transport</th>\n",
       "      <td>1198</td>\n",
       "      <td>122</td>\n",
       "      <td>85</td>\n",
       "      <td>139</td>\n",
       "    </tr>\n",
       "    <tr>\n",
       "      <th>Unknown</th>\n",
       "      <td>4321</td>\n",
       "      <td>405</td>\n",
       "      <td>338</td>\n",
       "      <td>416</td>\n",
       "    </tr>\n",
       "  </tbody>\n",
       "</table>\n",
       "</div>"
      ],
      "text/plain": [
       "mvar49                  0              1\n",
       "mvar50                  0         1    0\n",
       "mvar51                  0    1    0    0\n",
       "mvar12                                  \n",
       "Apparel               326   19   18   17\n",
       "Automotive            404   34   37   45\n",
       "Construction         2391  221  245  347\n",
       "Consumables           929   96  100   87\n",
       "Durable goods        1351   87  102  149\n",
       "Entertainment        1816  172  164  225\n",
       "Finance              2255  214  180  236\n",
       "Household            1885  150  164  174\n",
       "Manufacturing        1430   78  113  187\n",
       "Mining                 42    2    0   10\n",
       "Misc services        4253  410  322  455\n",
       "Non durable goods     803   46   70   88\n",
       "Office supplies      1698  143  159  197\n",
       "Personal services    2202  244  217  258\n",
       "Produce               510   45   56   64\n",
       "Social services      3308  289  284  353\n",
       "Transport            1198  122   85  139\n",
       "Unknown              4321  405  338  416"
      ]
     },
     "execution_count": 15,
     "metadata": {},
     "output_type": "execute_result"
    }
   ],
   "source": [
    "Industries = pd.crosstab(df.mvar12, [df.mvar49, df.mvar50, df.mvar51])\n",
    "Industries"
   ]
  },
  {
   "cell_type": "code",
   "execution_count": 16,
   "metadata": {},
   "outputs": [
    {
     "data": {
      "text/plain": [
       "array([12, 11,  6, 13, 10, 15, 14, 16,  7, 18, 17,  8,  9,  5, 22,  0,  4,\n",
       "       19,  2,  3, 20, 21, 23])"
      ]
     },
     "execution_count": 16,
     "metadata": {},
     "output_type": "execute_result"
    }
   ],
   "source": [
    "df.mvar13.unique()"
   ]
  },
  {
   "cell_type": "code",
   "execution_count": 17,
   "metadata": {
    "collapsed": true
   },
   "outputs": [],
   "source": [
    "df2= pd.DataFrame(\n",
    "  {\n",
    "    \"mvar13\" : df.mvar13,\n",
    "    \"mvar49\" :df.mvar49,\n",
    "    \"mvar50\":df.mvar50,\n",
    "    \"mvar51\":df.mvar51\n",
    "})"
   ]
  },
  {
   "cell_type": "code",
   "execution_count": null,
   "metadata": {},
   "outputs": [],
   "source": [
    "sns.pairplot(df2, hue=\"mvar13\")\n",
    "plt.show()"
   ]
  },
  {
   "cell_type": "code",
   "execution_count": 18,
   "metadata": {
    "collapsed": true
   },
   "outputs": [],
   "source": [
    "spend = df.mvar36 + df.mvar37 + df.mvar38 + df.mvar39"
   ]
  },
  {
   "cell_type": "code",
   "execution_count": 19,
   "metadata": {
    "collapsed": true
   },
   "outputs": [],
   "source": [
    "income = df[\"mvar9\"][df.mvar9>0]\n"
   ]
  },
  {
   "cell_type": "code",
   "execution_count": 20,
   "metadata": {
    "collapsed": true
   },
   "outputs": [],
   "source": [
    "income= income.sort_values(ascending=True).reset_index()"
   ]
  },
  {
   "cell_type": "code",
   "execution_count": 21,
   "metadata": {
    "collapsed": true
   },
   "outputs": [],
   "source": [
    "median_income= income.median()[1]"
   ]
  },
  {
   "cell_type": "code",
   "execution_count": 22,
   "metadata": {
    "collapsed": true
   },
   "outputs": [],
   "source": [
    "df.mvar9.replace(to_replace=0, value=median_income, inplace=True)"
   ]
  },
  {
   "cell_type": "code",
   "execution_count": 23,
   "metadata": {},
   "outputs": [
    {
     "data": {
      "text/html": [
       "<div>\n",
       "<style>\n",
       "    .dataframe thead tr:only-child th {\n",
       "        text-align: right;\n",
       "    }\n",
       "\n",
       "    .dataframe thead th {\n",
       "        text-align: left;\n",
       "    }\n",
       "\n",
       "    .dataframe tbody tr th {\n",
       "        vertical-align: top;\n",
       "    }\n",
       "</style>\n",
       "<table border=\"1\" class=\"dataframe\">\n",
       "  <thead>\n",
       "    <tr style=\"text-align: right;\">\n",
       "      <th></th>\n",
       "      <th>cm_key</th>\n",
       "      <th>mvar1</th>\n",
       "      <th>mvar2</th>\n",
       "      <th>mvar3</th>\n",
       "      <th>mvar4</th>\n",
       "      <th>mvar5</th>\n",
       "      <th>mvar6</th>\n",
       "      <th>mvar7</th>\n",
       "      <th>mvar8</th>\n",
       "      <th>mvar9</th>\n",
       "      <th>...</th>\n",
       "      <th>mvar42</th>\n",
       "      <th>mvar43</th>\n",
       "      <th>mvar44</th>\n",
       "      <th>mvar45</th>\n",
       "      <th>mvar46</th>\n",
       "      <th>mvar47</th>\n",
       "      <th>mvar48</th>\n",
       "      <th>mvar49</th>\n",
       "      <th>mvar50</th>\n",
       "      <th>mvar51</th>\n",
       "    </tr>\n",
       "  </thead>\n",
       "  <tbody>\n",
       "    <tr>\n",
       "      <th>0</th>\n",
       "      <td>1</td>\n",
       "      <td>Charge</td>\n",
       "      <td>0</td>\n",
       "      <td>106920</td>\n",
       "      <td>4</td>\n",
       "      <td>18</td>\n",
       "      <td>970</td>\n",
       "      <td>0.7969</td>\n",
       "      <td>0.1831</td>\n",
       "      <td>337236</td>\n",
       "      <td>...</td>\n",
       "      <td>0</td>\n",
       "      <td>0</td>\n",
       "      <td>0</td>\n",
       "      <td>0</td>\n",
       "      <td>0</td>\n",
       "      <td>0</td>\n",
       "      <td>1</td>\n",
       "      <td>0</td>\n",
       "      <td>0</td>\n",
       "      <td>0</td>\n",
       "    </tr>\n",
       "    <tr>\n",
       "      <th>1</th>\n",
       "      <td>2</td>\n",
       "      <td>Charge</td>\n",
       "      <td>2</td>\n",
       "      <td>0</td>\n",
       "      <td>4</td>\n",
       "      <td>19</td>\n",
       "      <td>1030</td>\n",
       "      <td>0.0678</td>\n",
       "      <td>0.0000</td>\n",
       "      <td>2918974</td>\n",
       "      <td>...</td>\n",
       "      <td>0</td>\n",
       "      <td>0</td>\n",
       "      <td>0</td>\n",
       "      <td>0</td>\n",
       "      <td>1</td>\n",
       "      <td>0</td>\n",
       "      <td>0</td>\n",
       "      <td>0</td>\n",
       "      <td>0</td>\n",
       "      <td>0</td>\n",
       "    </tr>\n",
       "    <tr>\n",
       "      <th>2</th>\n",
       "      <td>3</td>\n",
       "      <td>Charge</td>\n",
       "      <td>2</td>\n",
       "      <td>399168</td>\n",
       "      <td>4</td>\n",
       "      <td>35</td>\n",
       "      <td>327</td>\n",
       "      <td>0.7551</td>\n",
       "      <td>0.2986</td>\n",
       "      <td>498656</td>\n",
       "      <td>...</td>\n",
       "      <td>0</td>\n",
       "      <td>0</td>\n",
       "      <td>0</td>\n",
       "      <td>0</td>\n",
       "      <td>0</td>\n",
       "      <td>0</td>\n",
       "      <td>1</td>\n",
       "      <td>0</td>\n",
       "      <td>0</td>\n",
       "      <td>0</td>\n",
       "    </tr>\n",
       "    <tr>\n",
       "      <th>3</th>\n",
       "      <td>4</td>\n",
       "      <td>Charge</td>\n",
       "      <td>0</td>\n",
       "      <td>267300</td>\n",
       "      <td>4</td>\n",
       "      <td>274</td>\n",
       "      <td>1258</td>\n",
       "      <td>0.7969</td>\n",
       "      <td>0.5297</td>\n",
       "      <td>2480074</td>\n",
       "      <td>...</td>\n",
       "      <td>0</td>\n",
       "      <td>1</td>\n",
       "      <td>0</td>\n",
       "      <td>0</td>\n",
       "      <td>0</td>\n",
       "      <td>0</td>\n",
       "      <td>1</td>\n",
       "      <td>0</td>\n",
       "      <td>0</td>\n",
       "      <td>1</td>\n",
       "    </tr>\n",
       "    <tr>\n",
       "      <th>4</th>\n",
       "      <td>5</td>\n",
       "      <td>Charge</td>\n",
       "      <td>0</td>\n",
       "      <td>213840</td>\n",
       "      <td>6</td>\n",
       "      <td>1</td>\n",
       "      <td>0</td>\n",
       "      <td>2.3238</td>\n",
       "      <td>0.0000</td>\n",
       "      <td>2918974</td>\n",
       "      <td>...</td>\n",
       "      <td>0</td>\n",
       "      <td>0</td>\n",
       "      <td>0</td>\n",
       "      <td>0</td>\n",
       "      <td>1</td>\n",
       "      <td>0</td>\n",
       "      <td>0</td>\n",
       "      <td>1</td>\n",
       "      <td>0</td>\n",
       "      <td>0</td>\n",
       "    </tr>\n",
       "  </tbody>\n",
       "</table>\n",
       "<p>5 rows × 52 columns</p>\n",
       "</div>"
      ],
      "text/plain": [
       "   cm_key         mvar1  mvar2   mvar3  mvar4  mvar5  mvar6   mvar7   mvar8  \\\n",
       "0       1  Charge            0  106920      4     18    970  0.7969  0.1831   \n",
       "1       2  Charge            2       0      4     19   1030  0.0678  0.0000   \n",
       "2       3  Charge            2  399168      4     35    327  0.7551  0.2986   \n",
       "3       4  Charge            0  267300      4    274   1258  0.7969  0.5297   \n",
       "4       5  Charge            0  213840      6      1      0  2.3238  0.0000   \n",
       "\n",
       "     mvar9   ...    mvar42  mvar43 mvar44  mvar45  mvar46  mvar47  mvar48  \\\n",
       "0   337236   ...         0       0      0       0       0       0       1   \n",
       "1  2918974   ...         0       0      0       0       1       0       0   \n",
       "2   498656   ...         0       0      0       0       0       0       1   \n",
       "3  2480074   ...         0       1      0       0       0       0       1   \n",
       "4  2918974   ...         0       0      0       0       1       0       0   \n",
       "\n",
       "   mvar49  mvar50  mvar51  \n",
       "0       0       0       0  \n",
       "1       0       0       0  \n",
       "2       0       0       0  \n",
       "3       0       0       1  \n",
       "4       1       0       0  \n",
       "\n",
       "[5 rows x 52 columns]"
      ]
     },
     "execution_count": 23,
     "metadata": {},
     "output_type": "execute_result"
    }
   ],
   "source": [
    "df2=df\n",
    "df2.head()"
   ]
  },
  {
   "cell_type": "code",
   "execution_count": 24,
   "metadata": {
    "collapsed": true
   },
   "outputs": [],
   "source": [
    "df2.drop([\"cm_key\", \"mvar1\", \"mvar3\"], axis=1, inplace=True)"
   ]
  },
  {
   "cell_type": "code",
   "execution_count": 25,
   "metadata": {
    "collapsed": true
   },
   "outputs": [],
   "source": [
    "df2= df2.ix[:, 0:14]"
   ]
  },
  {
   "cell_type": "code",
   "execution_count": 26,
   "metadata": {
    "collapsed": true
   },
   "outputs": [],
   "source": [
    "df2[\"spend\"]=spend"
   ]
  },
  {
   "cell_type": "code",
   "execution_count": 27,
   "metadata": {
    "collapsed": true
   },
   "outputs": [],
   "source": [
    "df2[\"supplementary_offered\"]= df.mvar46"
   ]
  },
  {
   "cell_type": "code",
   "execution_count": 28,
   "metadata": {
    "collapsed": true
   },
   "outputs": [],
   "source": [
    "df2[\"supplementary\"]= df.mvar49"
   ]
  },
  {
   "cell_type": "code",
   "execution_count": 29,
   "metadata": {
    "collapsed": true
   },
   "outputs": [],
   "source": [
    "df2.mvar9 = np.log(df2.mvar9)"
   ]
  },
  {
   "cell_type": "code",
   "execution_count": 30,
   "metadata": {},
   "outputs": [],
   "source": [
    "df2.spend= (df2.spend- df2.spend.mean())/df2.spend.std()"
   ]
  },
  {
   "cell_type": "code",
   "execution_count": 31,
   "metadata": {
    "collapsed": true
   },
   "outputs": [],
   "source": [
    "df2.mvar6 = (df2.mvar6- df2.mvar6.mean())/df2.mvar6.std()"
   ]
  },
  {
   "cell_type": "code",
   "execution_count": 32,
   "metadata": {
    "collapsed": true
   },
   "outputs": [],
   "source": [
    "le= preprocessing.LabelEncoder()\n",
    "df2.mvar12= le.fit_transform(df2.mvar12)"
   ]
  },
  {
   "cell_type": "code",
   "execution_count": 33,
   "metadata": {},
   "outputs": [
    {
     "data": {
      "text/html": [
       "<div>\n",
       "<style>\n",
       "    .dataframe thead tr:only-child th {\n",
       "        text-align: right;\n",
       "    }\n",
       "\n",
       "    .dataframe thead th {\n",
       "        text-align: left;\n",
       "    }\n",
       "\n",
       "    .dataframe tbody tr th {\n",
       "        vertical-align: top;\n",
       "    }\n",
       "</style>\n",
       "<table border=\"1\" class=\"dataframe\">\n",
       "  <thead>\n",
       "    <tr style=\"text-align: right;\">\n",
       "      <th></th>\n",
       "      <th>mvar2</th>\n",
       "      <th>mvar4</th>\n",
       "      <th>mvar5</th>\n",
       "      <th>mvar6</th>\n",
       "      <th>mvar7</th>\n",
       "      <th>mvar8</th>\n",
       "      <th>mvar9</th>\n",
       "      <th>mvar10</th>\n",
       "      <th>mvar11</th>\n",
       "      <th>mvar12</th>\n",
       "      <th>mvar13</th>\n",
       "      <th>mvar14</th>\n",
       "      <th>mvar15</th>\n",
       "      <th>mvar16</th>\n",
       "      <th>spend</th>\n",
       "      <th>supplementary_offered</th>\n",
       "      <th>supplementary</th>\n",
       "    </tr>\n",
       "  </thead>\n",
       "  <tbody>\n",
       "    <tr>\n",
       "      <th>count</th>\n",
       "      <td>40000.000000</td>\n",
       "      <td>40000.000000</td>\n",
       "      <td>40000.000000</td>\n",
       "      <td>4.000000e+04</td>\n",
       "      <td>40000.000000</td>\n",
       "      <td>40000.000000</td>\n",
       "      <td>40000.000000</td>\n",
       "      <td>40000.000000</td>\n",
       "      <td>40000.000000</td>\n",
       "      <td>40000.000000</td>\n",
       "      <td>40000.000000</td>\n",
       "      <td>40000.000000</td>\n",
       "      <td>40000.000000</td>\n",
       "      <td>4.000000e+04</td>\n",
       "      <td>4.000000e+04</td>\n",
       "      <td>40000.000000</td>\n",
       "      <td>40000.000000</td>\n",
       "    </tr>\n",
       "    <tr>\n",
       "      <th>mean</th>\n",
       "      <td>1.117150</td>\n",
       "      <td>3.224150</td>\n",
       "      <td>89.264475</td>\n",
       "      <td>-1.227241e-16</td>\n",
       "      <td>0.726782</td>\n",
       "      <td>0.167726</td>\n",
       "      <td>13.465484</td>\n",
       "      <td>0.329925</td>\n",
       "      <td>3.384588</td>\n",
       "      <td>9.967850</td>\n",
       "      <td>11.993125</td>\n",
       "      <td>1.046025</td>\n",
       "      <td>0.329175</td>\n",
       "      <td>1.485472e+03</td>\n",
       "      <td>-1.999845e-16</td>\n",
       "      <td>0.425825</td>\n",
       "      <td>0.086175</td>\n",
       "    </tr>\n",
       "    <tr>\n",
       "      <th>std</th>\n",
       "      <td>1.656335</td>\n",
       "      <td>2.324337</td>\n",
       "      <td>92.247710</td>\n",
       "      <td>1.000000e+00</td>\n",
       "      <td>1.262927</td>\n",
       "      <td>0.206095</td>\n",
       "      <td>1.619744</td>\n",
       "      <td>0.470191</td>\n",
       "      <td>1.890469</td>\n",
       "      <td>5.040878</td>\n",
       "      <td>3.274286</td>\n",
       "      <td>0.422328</td>\n",
       "      <td>0.772550</td>\n",
       "      <td>2.509461e+04</td>\n",
       "      <td>1.000000e+00</td>\n",
       "      <td>0.494474</td>\n",
       "      <td>0.280626</td>\n",
       "    </tr>\n",
       "    <tr>\n",
       "      <th>min</th>\n",
       "      <td>0.000000</td>\n",
       "      <td>0.000000</td>\n",
       "      <td>1.000000</td>\n",
       "      <td>-9.843119e-01</td>\n",
       "      <td>0.000100</td>\n",
       "      <td>0.000000</td>\n",
       "      <td>4.094345</td>\n",
       "      <td>0.000000</td>\n",
       "      <td>0.000000</td>\n",
       "      <td>0.000000</td>\n",
       "      <td>0.000000</td>\n",
       "      <td>0.000000</td>\n",
       "      <td>0.000000</td>\n",
       "      <td>0.000000e+00</td>\n",
       "      <td>-1.669018e-01</td>\n",
       "      <td>0.000000</td>\n",
       "      <td>0.000000</td>\n",
       "    </tr>\n",
       "    <tr>\n",
       "      <th>25%</th>\n",
       "      <td>0.000000</td>\n",
       "      <td>2.000000</td>\n",
       "      <td>16.000000</td>\n",
       "      <td>-6.293154e-01</td>\n",
       "      <td>0.106000</td>\n",
       "      <td>0.000000</td>\n",
       "      <td>11.959003</td>\n",
       "      <td>0.000000</td>\n",
       "      <td>1.753100</td>\n",
       "      <td>6.000000</td>\n",
       "      <td>10.000000</td>\n",
       "      <td>1.000000</td>\n",
       "      <td>0.000000</td>\n",
       "      <td>0.000000e+00</td>\n",
       "      <td>-1.462045e-01</td>\n",
       "      <td>0.000000</td>\n",
       "      <td>0.000000</td>\n",
       "    </tr>\n",
       "    <tr>\n",
       "      <th>50%</th>\n",
       "      <td>0.000000</td>\n",
       "      <td>3.000000</td>\n",
       "      <td>53.000000</td>\n",
       "      <td>-3.481408e-01</td>\n",
       "      <td>0.382000</td>\n",
       "      <td>0.115500</td>\n",
       "      <td>13.678642</td>\n",
       "      <td>0.000000</td>\n",
       "      <td>3.220350</td>\n",
       "      <td>10.000000</td>\n",
       "      <td>12.000000</td>\n",
       "      <td>1.000000</td>\n",
       "      <td>0.000000</td>\n",
       "      <td>5.708000e+01</td>\n",
       "      <td>-1.125815e-01</td>\n",
       "      <td>0.000000</td>\n",
       "      <td>0.000000</td>\n",
       "    </tr>\n",
       "    <tr>\n",
       "      <th>75%</th>\n",
       "      <td>2.000000</td>\n",
       "      <td>4.000000</td>\n",
       "      <td>134.000000</td>\n",
       "      <td>3.151707e-01</td>\n",
       "      <td>0.796900</td>\n",
       "      <td>0.268200</td>\n",
       "      <td>14.886743</td>\n",
       "      <td>1.000000</td>\n",
       "      <td>5.011550</td>\n",
       "      <td>15.000000</td>\n",
       "      <td>14.000000</td>\n",
       "      <td>1.000000</td>\n",
       "      <td>0.000000</td>\n",
       "      <td>4.011750e+02</td>\n",
       "      <td>-2.442707e-02</td>\n",
       "      <td>1.000000</td>\n",
       "      <td>0.000000</td>\n",
       "    </tr>\n",
       "    <tr>\n",
       "      <th>max</th>\n",
       "      <td>11.000000</td>\n",
       "      <td>12.000000</td>\n",
       "      <td>355.000000</td>\n",
       "      <td>4.259215e+00</td>\n",
       "      <td>10.000000</td>\n",
       "      <td>0.883100</td>\n",
       "      <td>17.347941</td>\n",
       "      <td>1.000000</td>\n",
       "      <td>7.001000</td>\n",
       "      <td>17.000000</td>\n",
       "      <td>23.000000</td>\n",
       "      <td>9.000000</td>\n",
       "      <td>5.000000</td>\n",
       "      <td>3.722901e+06</td>\n",
       "      <td>1.101513e+02</td>\n",
       "      <td>1.000000</td>\n",
       "      <td>1.000000</td>\n",
       "    </tr>\n",
       "  </tbody>\n",
       "</table>\n",
       "</div>"
      ],
      "text/plain": [
       "              mvar2         mvar4         mvar5         mvar6         mvar7  \\\n",
       "count  40000.000000  40000.000000  40000.000000  4.000000e+04  40000.000000   \n",
       "mean       1.117150      3.224150     89.264475 -1.227241e-16      0.726782   \n",
       "std        1.656335      2.324337     92.247710  1.000000e+00      1.262927   \n",
       "min        0.000000      0.000000      1.000000 -9.843119e-01      0.000100   \n",
       "25%        0.000000      2.000000     16.000000 -6.293154e-01      0.106000   \n",
       "50%        0.000000      3.000000     53.000000 -3.481408e-01      0.382000   \n",
       "75%        2.000000      4.000000    134.000000  3.151707e-01      0.796900   \n",
       "max       11.000000     12.000000    355.000000  4.259215e+00     10.000000   \n",
       "\n",
       "              mvar8         mvar9        mvar10        mvar11        mvar12  \\\n",
       "count  40000.000000  40000.000000  40000.000000  40000.000000  40000.000000   \n",
       "mean       0.167726     13.465484      0.329925      3.384588      9.967850   \n",
       "std        0.206095      1.619744      0.470191      1.890469      5.040878   \n",
       "min        0.000000      4.094345      0.000000      0.000000      0.000000   \n",
       "25%        0.000000     11.959003      0.000000      1.753100      6.000000   \n",
       "50%        0.115500     13.678642      0.000000      3.220350     10.000000   \n",
       "75%        0.268200     14.886743      1.000000      5.011550     15.000000   \n",
       "max        0.883100     17.347941      1.000000      7.001000     17.000000   \n",
       "\n",
       "             mvar13        mvar14        mvar15        mvar16         spend  \\\n",
       "count  40000.000000  40000.000000  40000.000000  4.000000e+04  4.000000e+04   \n",
       "mean      11.993125      1.046025      0.329175  1.485472e+03 -1.999845e-16   \n",
       "std        3.274286      0.422328      0.772550  2.509461e+04  1.000000e+00   \n",
       "min        0.000000      0.000000      0.000000  0.000000e+00 -1.669018e-01   \n",
       "25%       10.000000      1.000000      0.000000  0.000000e+00 -1.462045e-01   \n",
       "50%       12.000000      1.000000      0.000000  5.708000e+01 -1.125815e-01   \n",
       "75%       14.000000      1.000000      0.000000  4.011750e+02 -2.442707e-02   \n",
       "max       23.000000      9.000000      5.000000  3.722901e+06  1.101513e+02   \n",
       "\n",
       "       supplementary_offered  supplementary  \n",
       "count           40000.000000   40000.000000  \n",
       "mean                0.425825       0.086175  \n",
       "std                 0.494474       0.280626  \n",
       "min                 0.000000       0.000000  \n",
       "25%                 0.000000       0.000000  \n",
       "50%                 0.000000       0.000000  \n",
       "75%                 1.000000       0.000000  \n",
       "max                 1.000000       1.000000  "
      ]
     },
     "execution_count": 33,
     "metadata": {},
     "output_type": "execute_result"
    }
   ],
   "source": [
    "df2.describe()"
   ]
  },
  {
   "cell_type": "code",
   "execution_count": 34,
   "metadata": {},
   "outputs": [
    {
     "data": {
      "text/plain": [
       "3447L"
      ]
     },
     "execution_count": 34,
     "metadata": {},
     "output_type": "execute_result"
    }
   ],
   "source": [
    "df2= df2[df2.supplementary_offered==1]\n",
    "df2.supplementary.sum()"
   ]
  },
  {
   "cell_type": "code",
   "execution_count": 35,
   "metadata": {},
   "outputs": [
    {
     "name": "stdout",
     "output_type": "stream",
     "text": [
      "majority : (13586, 17)\n",
      "minority : (3447, 17)\n"
     ]
    }
   ],
   "source": [
    "df2_majority = df2[df2.supplementary==0]\n",
    "df2_minority = df2[df2.supplementary==1]\n",
    "print \"majority : \" + str(df2_majority.shape)\n",
    "print \"minority : \" + str(df2_minority.shape)"
   ]
  },
  {
   "cell_type": "code",
   "execution_count": 36,
   "metadata": {},
   "outputs": [],
   "source": [
    "df2_majority_downsampled = resample(df2_majority, \n",
    "                                 replace=False,    \n",
    "                                 n_samples=8000,     \n",
    "                                 random_state=123)"
   ]
  },
  {
   "cell_type": "code",
   "execution_count": 37,
   "metadata": {
    "collapsed": true
   },
   "outputs": [],
   "source": [
    "df2_minority_upsampled = resample(df2_minority, \n",
    "                                 replace=True,    \n",
    "                                 n_samples=6000,     \n",
    "                                 random_state=123)"
   ]
  },
  {
   "cell_type": "code",
   "execution_count": 38,
   "metadata": {},
   "outputs": [
    {
     "data": {
      "text/plain": [
       "(14000, 17)"
      ]
     },
     "execution_count": 38,
     "metadata": {},
     "output_type": "execute_result"
    }
   ],
   "source": [
    "df3= pd.concat([df2_majority_downsampled, df2_minority_upsampled])\n",
    "df3.shape"
   ]
  },
  {
   "cell_type": "code",
   "execution_count": 39,
   "metadata": {
    "collapsed": true
   },
   "outputs": [],
   "source": [
    "train, test= train_test_split(df3, test_size=0.3)"
   ]
  },
  {
   "cell_type": "code",
   "execution_count": 40,
   "metadata": {},
   "outputs": [
    {
     "name": "stderr",
     "output_type": "stream",
     "text": [
      "/home/apoorva/anaconda2/lib/python2.7/site-packages/ipykernel_launcher.py:1: DeprecationWarning: \n",
      ".ix is deprecated. Please use\n",
      ".loc for label based indexing or\n",
      ".iloc for positional indexing\n",
      "\n",
      "See the documentation here:\n",
      "http://pandas.pydata.org/pandas-docs/stable/indexing.html#deprecate_ix\n",
      "  \"\"\"Entry point for launching an IPython kernel.\n",
      "/home/apoorva/anaconda2/lib/python2.7/site-packages/ipykernel_launcher.py:3: DeprecationWarning: \n",
      ".ix is deprecated. Please use\n",
      ".loc for label based indexing or\n",
      ".iloc for positional indexing\n",
      "\n",
      "See the documentation here:\n",
      "http://pandas.pydata.org/pandas-docs/stable/indexing.html#deprecate_ix\n",
      "  This is separate from the ipykernel package so we can avoid doing imports until\n"
     ]
    }
   ],
   "source": [
    "x_train = train.ix[:, :-1]\n",
    "y_train= train.ix[:, -1]\n",
    "x_test = test.ix[:, :-1]\n",
    "y_test= test.ix[:, -1]"
   ]
  },
  {
   "cell_type": "code",
   "execution_count": 41,
   "metadata": {
    "collapsed": true
   },
   "outputs": [],
   "source": [
    "LR= LogisticRegression()\n",
    "LR = LR.fit(x_train, y_train)"
   ]
  },
  {
   "cell_type": "code",
   "execution_count": 42,
   "metadata": {
    "collapsed": true
   },
   "outputs": [],
   "source": [
    "y_predicted= LR.predict(x_test)"
   ]
  },
  {
   "cell_type": "code",
   "execution_count": 43,
   "metadata": {},
   "outputs": [
    {
     "data": {
      "text/plain": [
       "1048"
      ]
     },
     "execution_count": 43,
     "metadata": {},
     "output_type": "execute_result"
    }
   ],
   "source": [
    "y_predicted.sum()"
   ]
  },
  {
   "cell_type": "code",
   "execution_count": 44,
   "metadata": {},
   "outputs": [
    {
     "name": "stdout",
     "output_type": "stream",
     "text": [
      "0.619523809524\n",
      "[[1950  396]\n",
      " [1202  652]]\n",
      "             precision    recall  f1-score   support\n",
      "\n",
      "          0       0.62      0.83      0.71      2346\n",
      "          1       0.62      0.35      0.45      1854\n",
      "\n",
      "avg / total       0.62      0.62      0.59      4200\n",
      "\n"
     ]
    }
   ],
   "source": [
    "print(metrics.accuracy_score(y_test, y_predicted))\n",
    "print(metrics.confusion_matrix(y_test, y_predicted))\n",
    "print(metrics.classification_report(y_test, y_predicted))"
   ]
  },
  {
   "cell_type": "code",
   "execution_count": 85,
   "metadata": {
    "collapsed": true
   },
   "outputs": [],
   "source": [
    "DTC= DecisionTreeClassifier(max_depth=200, class_weight= {0:0.2,1:0.8})"
   ]
  },
  {
   "cell_type": "code",
   "execution_count": 86,
   "metadata": {},
   "outputs": [
    {
     "data": {
      "text/plain": [
       "DecisionTreeClassifier(class_weight={0: 0.2, 1: 0.8}, criterion='gini',\n",
       "            max_depth=200, max_features=None, max_leaf_nodes=None,\n",
       "            min_impurity_split=1e-07, min_samples_leaf=1,\n",
       "            min_samples_split=2, min_weight_fraction_leaf=0.0,\n",
       "            presort=False, random_state=None, splitter='best')"
      ]
     },
     "execution_count": 86,
     "metadata": {},
     "output_type": "execute_result"
    }
   ],
   "source": [
    "DTC.fit(x_train, y_train)"
   ]
  },
  {
   "cell_type": "code",
   "execution_count": 87,
   "metadata": {
    "collapsed": true
   },
   "outputs": [],
   "source": [
    "y_predicted= DTC.predict(x_test)"
   ]
  },
  {
   "cell_type": "code",
   "execution_count": 88,
   "metadata": {},
   "outputs": [
    {
     "name": "stdout",
     "output_type": "stream",
     "text": [
      "0.760714285714\n",
      "[[1726  620]\n",
      " [ 385 1469]]\n",
      "             precision    recall  f1-score   support\n",
      "\n",
      "          0       0.82      0.74      0.77      2346\n",
      "          1       0.70      0.79      0.75      1854\n",
      "\n",
      "avg / total       0.77      0.76      0.76      4200\n",
      "\n"
     ]
    }
   ],
   "source": [
    "print(metrics.accuracy_score(y_test, y_predicted))\n",
    "print(metrics.confusion_matrix(y_test, y_predicted))\n",
    "print(metrics.classification_report(y_test, y_predicted))"
   ]
  },
  {
   "cell_type": "code",
   "execution_count": null,
   "metadata": {
    "collapsed": true
   },
   "outputs": [],
   "source": []
  },
  {
   "cell_type": "code",
   "execution_count": null,
   "metadata": {
    "collapsed": true
   },
   "outputs": [],
   "source": []
  },
  {
   "cell_type": "code",
   "execution_count": null,
   "metadata": {
    "collapsed": true
   },
   "outputs": [],
   "source": []
  }
 ],
 "metadata": {
  "kernelspec": {
   "display_name": "Python 2",
   "language": "python",
   "name": "python2"
  },
  "language_info": {
   "codemirror_mode": {
    "name": "ipython",
    "version": 2
   },
   "file_extension": ".py",
   "mimetype": "text/x-python",
   "name": "python",
   "nbconvert_exporter": "python",
   "pygments_lexer": "ipython2",
   "version": "2.7.13"
  }
 },
 "nbformat": 4,
 "nbformat_minor": 2
}
