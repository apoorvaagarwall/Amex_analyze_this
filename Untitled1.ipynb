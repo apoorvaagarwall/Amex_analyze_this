{
  "nbformat": 4,
  "nbformat_minor": 0,
  "metadata": {
    "colab": {
      "name": "Untitled1.ipynb",
      "version": "0.3.2",
      "provenance": [],
      "include_colab_link": true
    },
    "kernelspec": {
      "name": "python2",
      "display_name": "Python 2"
    }
  },
  "cells": [
    {
      "cell_type": "markdown",
      "metadata": {
        "id": "view-in-github",
        "colab_type": "text"
      },
      "source": [
        "[View in Colaboratory](https://colab.research.google.com/github/apoorvaagarwall/Amex_analyze_this/blob/master/Untitled1.ipynb)"
      ]
    },
    {
      "metadata": {
        "id": "vQo8dqQOBb_-",
        "colab_type": "code",
        "colab": {}
      },
      "cell_type": "code",
      "source": [
        "import pandas as pd\n",
        "import numpy as np \n",
        "\n",
        "import matplotlib.pyplot as plt\n",
        "import seaborn as sns"
      ],
      "execution_count": 0,
      "outputs": []
    },
    {
      "metadata": {
        "id": "4Hzw8zWiB873",
        "colab_type": "code",
        "colab": {
          "base_uri": "https://localhost:8080/",
          "height": 122
        },
        "outputId": "f9251607-7267-4514-f396-1377fa1c8042"
      },
      "cell_type": "code",
      "source": [
        "from google.colab import drive\n",
        "drive.mount('/content/drive')"
      ],
      "execution_count": 2,
      "outputs": [
        {
          "output_type": "stream",
          "text": [
            "Go to this URL in a browser: https://accounts.google.com/o/oauth2/auth?client_id=947318989803-6bn6qk8qdgf4n4g3pfee6491hc0brc4i.apps.googleusercontent.com&redirect_uri=urn%3Aietf%3Awg%3Aoauth%3A2.0%3Aoob&scope=email%20https%3A%2F%2Fwww.googleapis.com%2Fauth%2Fdocs.test%20https%3A%2F%2Fwww.googleapis.com%2Fauth%2Fdrive%20https%3A%2F%2Fwww.googleapis.com%2Fauth%2Fdrive.photos.readonly%20https%3A%2F%2Fwww.googleapis.com%2Fauth%2Fpeopleapi.readonly&response_type=code\n",
            "\n",
            "Enter your authorization code:\n",
            "··········\n",
            "Mounted at /content/drive\n"
          ],
          "name": "stdout"
        }
      ]
    },
    {
      "metadata": {
        "id": "ex86-sSLCETt",
        "colab_type": "code",
        "colab": {}
      },
      "cell_type": "code",
      "source": [
        "df = pd.read_csv(\"/content/drive/My Drive/Training_dataset_Original.csv\")"
      ],
      "execution_count": 0,
      "outputs": []
    },
    {
      "metadata": {
        "id": "b_Xir-OoCZz7",
        "colab_type": "code",
        "colab": {}
      },
      "cell_type": "code",
      "source": [
        "df.replace(\"missing\", -100, inplace=True)"
      ],
      "execution_count": 0,
      "outputs": []
    },
    {
      "metadata": {
        "id": "Knv8o-8zDHv6",
        "colab_type": "code",
        "colab": {}
      },
      "cell_type": "code",
      "source": [
        "df.replace(\"na\", -1000, inplace=True)"
      ],
      "execution_count": 0,
      "outputs": []
    },
    {
      "metadata": {
        "id": "QhXdR7PVDKQE",
        "colab_type": "code",
        "colab": {}
      },
      "cell_type": "code",
      "source": [
        "for i in range(6,21):\n",
        "    s= \"mvar\"\n",
        "    s+= str(i)\n",
        "    df[s]= df[s].astype(str).astype(int)\n",
        "    \n",
        "    \n",
        "for i in range(25,33):\n",
        "    s= \"mvar\"\n",
        "    s+= str(i)\n",
        "    df[s]= df[s].astype(str).astype(int)\n",
        "    \n",
        "    \n",
        "for i in range(34,40):\n",
        "    s= \"mvar\"\n",
        "    s+= str(i)\n",
        "    df[s]= df[s].astype(str).astype(int)\n",
        "    \n",
        "for i in range(40,47):\n",
        "    s= \"mvar\"\n",
        "    s+= str(i)\n",
        "    df[s]= df[s].astype(str).astype(float)\n",
        "    \n",
        "df[\"mvar1\"]= df[\"mvar1\"].astype(str).astype(int)"
      ],
      "execution_count": 0,
      "outputs": []
    },
    {
      "metadata": {
        "id": "KXiaMBviDaec",
        "colab_type": "code",
        "colab": {}
      },
      "cell_type": "code",
      "source": [
        "df.replace(-100, np.nan, inplace=True)\n",
        "df.replace(-1000, np.nan, inplace=True)"
      ],
      "execution_count": 0,
      "outputs": []
    },
    {
      "metadata": {
        "id": "8JYxCwLNF2Wf",
        "colab_type": "code",
        "colab": {}
      },
      "cell_type": "code",
      "source": [
        "from sklearn.preprocessing import LabelEncoder\n",
        "LE= LabelEncoder();\n",
        "df[\"mvar47\"]=LE.fit_transform(df[\"mvar47\"].values)"
      ],
      "execution_count": 0,
      "outputs": []
    },
    {
      "metadata": {
        "id": "bDjtjB-xDhsC",
        "colab_type": "code",
        "colab": {
          "base_uri": "https://localhost:8080/",
          "height": 867
        },
        "outputId": "f1115cf4-a04e-4f75-a5e6-79d2d1acb6b9"
      },
      "cell_type": "code",
      "source": [
        "print(df.isnull().sum().sort_values(ascending=False))\n",
        "tot= df.isnull().sum()"
      ],
      "execution_count": 29,
      "outputs": [
        {
          "output_type": "stream",
          "text": [
            "mvar40             62557\n",
            "mvar31             56218\n",
            "mvar41             54578\n",
            "mvar45             44855\n",
            "mvar11             44819\n",
            "mvar23             40248\n",
            "mvar30             36417\n",
            "mvar35             33014\n",
            "mvar15             32067\n",
            "mvar22             29124\n",
            "mvar46             22789\n",
            "mvar21             22561\n",
            "mvar6              18964\n",
            "mvar8              18964\n",
            "mvar24             18902\n",
            "mvar16             18510\n",
            "mvar17             15846\n",
            "mvar18             14771\n",
            "mvar12             14078\n",
            "mvar27             13209\n",
            "mvar9              11408\n",
            "mvar26             10610\n",
            "mvar13              8352\n",
            "mvar44              7745\n",
            "mvar37              7706\n",
            "mvar32              7706\n",
            "mvar25              7706\n",
            "mvar7               7394\n",
            "mvar39              6040\n",
            "mvar2               5553\n",
            "mvar1               3639\n",
            "mvar36              2898\n",
            "mvar42              1901\n",
            "mvar33              1751\n",
            "mvar43               818\n",
            "mvar20               502\n",
            "mvar34               502\n",
            "mvar29               502\n",
            "mvar28               502\n",
            "mvar38               502\n",
            "mvar10               502\n",
            "mvar5                501\n",
            "mvar3                501\n",
            "mvar4                501\n",
            "mvar19                 4\n",
            "default_ind            0\n",
            "mvar14                 0\n",
            "mvar47                 0\n",
            "application_key        0\n",
            "dtype: int64\n"
          ],
          "name": "stdout"
        }
      ]
    },
    {
      "metadata": {
        "id": "8OLo9ssvDl7F",
        "colab_type": "code",
        "colab": {
          "base_uri": "https://localhost:8080/",
          "height": 1275
        },
        "outputId": "f6cf1e54-0a83-4d93-9851-7925b9f14fb2"
      },
      "cell_type": "code",
      "source": [
        "!pip install fancyimpute"
      ],
      "execution_count": 14,
      "outputs": [
        {
          "output_type": "stream",
          "text": [
            "Collecting fancyimpute\n",
            "  Downloading https://files.pythonhosted.org/packages/c4/9f/d69d4078abb84c8c6e21923bd76059129add7928e2786e6add8d812eb9fb/fancyimpute-0.4.0.tar.gz\n",
            "Requirement already satisfied: six in /usr/local/lib/python2.7/dist-packages (from fancyimpute) (1.11.0)\n",
            "Collecting knnimpute (from fancyimpute)\n",
            "  Downloading https://files.pythonhosted.org/packages/e8/35/e9ab006430d36aed71f623db8d194a723a14d40b52b3405cdd5b94d9de04/knnimpute-0.1.0.tar.gz\n",
            "Requirement already satisfied: numpy>=1.10 in /usr/local/lib/python2.7/dist-packages (from fancyimpute) (1.14.6)\n",
            "Requirement already satisfied: scipy in /usr/local/lib/python2.7/dist-packages (from fancyimpute) (0.19.1)\n",
            "Collecting cvxpy>=1.0.6 (from fancyimpute)\n",
            "\u001b[?25l  Downloading https://files.pythonhosted.org/packages/79/06/cc0553f250eef7160a364b561b451b40954308d1520e6bb055b8c6ac144a/cvxpy-1.0.8.tar.gz (900kB)\n",
            "\u001b[K    100% |████████████████████████████████| 901kB 8.5MB/s \n",
            "\u001b[?25hRequirement already satisfied: scikit-learn>=0.19.1 in /usr/local/lib/python2.7/dist-packages (from fancyimpute) (0.19.2)\n",
            "Requirement already satisfied: keras>=2.0.0 in /usr/local/lib/python2.7/dist-packages (from fancyimpute) (2.1.6)\n",
            "Collecting np_utils (from fancyimpute)\n",
            "\u001b[?25l  Downloading https://files.pythonhosted.org/packages/f2/6c/22469923361a70b62e5b14c96f0d2b0e386dce9d7f567187a02f26a7cb40/np_utils-0.5.5.2.tar.gz (59kB)\n",
            "\u001b[K    100% |████████████████████████████████| 61kB 20.7MB/s \n",
            "\u001b[?25hRequirement already satisfied: tensorflow in /usr/local/lib/python2.7/dist-packages (from fancyimpute) (1.11.0rc2)\n",
            "Collecting osqp (from cvxpy>=1.0.6->fancyimpute)\n",
            "\u001b[?25l  Downloading https://files.pythonhosted.org/packages/3f/1d/4e967bf3af322f7e27faebb00ef51dbe6a349b0766cda6154367e0105f3c/osqp-0.4.1-cp27-cp27mu-manylinux1_x86_64.whl (147kB)\n",
            "\u001b[K    100% |████████████████████████████████| 153kB 11.8MB/s \n",
            "\u001b[?25hCollecting ecos>=2 (from cvxpy>=1.0.6->fancyimpute)\n",
            "\u001b[?25l  Downloading https://files.pythonhosted.org/packages/b6/b4/988b15513b13e8ea2eac65e97d84221ac515a735a93f046e2a2a3d7863fc/ecos-2.0.5.tar.gz (114kB)\n",
            "\u001b[K    100% |████████████████████████████████| 122kB 18.6MB/s \n",
            "\u001b[?25hCollecting scs>=1.1.3 (from cvxpy>=1.0.6->fancyimpute)\n",
            "\u001b[?25l  Downloading https://files.pythonhosted.org/packages/b3/fd/6e01c4f4a69fcc6c3db130ba55572089e78e77ea8c0921a679f9da1ec04c/scs-2.0.2.tar.gz (133kB)\n",
            "\u001b[K    100% |████████████████████████████████| 143kB 10.7MB/s \n",
            "\u001b[?25hCollecting multiprocess (from cvxpy>=1.0.6->fancyimpute)\n",
            "\u001b[?25l  Downloading https://files.pythonhosted.org/packages/7a/ee/b9bf3e171f936743758ef924622d8dd00516c5532b00a1210a09bce68325/multiprocess-0.70.6.1.tar.gz (1.4MB)\n",
            "\u001b[K    100% |████████████████████████████████| 1.4MB 11.2MB/s \n",
            "\u001b[?25hCollecting fastcache (from cvxpy>=1.0.6->fancyimpute)\n",
            "  Downloading https://files.pythonhosted.org/packages/fb/98/93f2d36738868e8dd5a8dbfc918169b24658f63e5fa041fe000c22ae4f8b/fastcache-1.0.2.tar.gz\n",
            "Requirement already satisfied: toolz in /usr/local/lib/python2.7/dist-packages (from cvxpy>=1.0.6->fancyimpute) (0.9.0)\n",
            "Requirement already satisfied: h5py in /usr/local/lib/python2.7/dist-packages (from keras>=2.0.0->fancyimpute) (2.8.0)\n",
            "Requirement already satisfied: pyyaml in /usr/local/lib/python2.7/dist-packages (from keras>=2.0.0->fancyimpute) (3.13)\n",
            "Requirement already satisfied: future>=0.16 in /usr/local/lib/python2.7/dist-packages (from np_utils->fancyimpute) (0.16.0)\n",
            "Requirement already satisfied: grpcio>=1.8.6 in /usr/local/lib/python2.7/dist-packages (from tensorflow->fancyimpute) (1.15.0)\n",
            "Requirement already satisfied: protobuf>=3.6.0 in /usr/local/lib/python2.7/dist-packages (from tensorflow->fancyimpute) (3.6.1)\n",
            "Requirement already satisfied: enum34>=1.1.6 in /usr/local/lib/python2.7/dist-packages (from tensorflow->fancyimpute) (1.1.6)\n",
            "Requirement already satisfied: mock>=2.0.0 in /usr/local/lib/python2.7/dist-packages (from tensorflow->fancyimpute) (2.0.0)\n",
            "Requirement already satisfied: gast>=0.2.0 in /usr/local/lib/python2.7/dist-packages (from tensorflow->fancyimpute) (0.2.0)\n",
            "Requirement already satisfied: absl-py>=0.1.6 in /usr/local/lib/python2.7/dist-packages (from tensorflow->fancyimpute) (0.5.0)\n",
            "Requirement already satisfied: wheel in /usr/local/lib/python2.7/dist-packages (from tensorflow->fancyimpute) (0.31.1)\n",
            "Requirement already satisfied: keras-preprocessing>=1.0.3 in /usr/local/lib/python2.7/dist-packages (from tensorflow->fancyimpute) (1.0.3)\n",
            "Requirement already satisfied: keras-applications>=1.0.5 in /usr/local/lib/python2.7/dist-packages (from tensorflow->fancyimpute) (1.0.5)\n",
            "Requirement already satisfied: tensorboard<1.11.0,>=1.10.0 in /usr/local/lib/python2.7/dist-packages (from tensorflow->fancyimpute) (1.10.0)\n",
            "Requirement already satisfied: termcolor>=1.1.0 in /usr/local/lib/python2.7/dist-packages (from tensorflow->fancyimpute) (1.1.0)\n",
            "Requirement already satisfied: backports.weakref>=1.0rc1 in /usr/local/lib/python2.7/dist-packages (from tensorflow->fancyimpute) (1.0.post1)\n",
            "Requirement already satisfied: setuptools<=39.1.0 in /usr/local/lib/python2.7/dist-packages (from tensorflow->fancyimpute) (39.1.0)\n",
            "Requirement already satisfied: astor>=0.6.0 in /usr/local/lib/python2.7/dist-packages (from tensorflow->fancyimpute) (0.7.1)\n",
            "Requirement already satisfied: dill>=0.2.8.1 in /usr/local/lib/python2.7/dist-packages (from multiprocess->cvxpy>=1.0.6->fancyimpute) (0.2.8.2)\n",
            "Requirement already satisfied: futures>=2.2.0 in /usr/local/lib/python2.7/dist-packages (from grpcio>=1.8.6->tensorflow->fancyimpute) (3.2.0)\n",
            "Requirement already satisfied: funcsigs>=1; python_version < \"3.3\" in /usr/local/lib/python2.7/dist-packages (from mock>=2.0.0->tensorflow->fancyimpute) (1.0.2)\n",
            "Requirement already satisfied: pbr>=0.11 in /usr/local/lib/python2.7/dist-packages (from mock>=2.0.0->tensorflow->fancyimpute) (4.2.0)\n",
            "Requirement already satisfied: werkzeug>=0.11.10 in /usr/local/lib/python2.7/dist-packages (from tensorboard<1.11.0,>=1.10.0->tensorflow->fancyimpute) (0.14.1)\n",
            "Requirement already satisfied: markdown>=2.6.8 in /usr/local/lib/python2.7/dist-packages (from tensorboard<1.11.0,>=1.10.0->tensorflow->fancyimpute) (3.0.1)\n",
            "Building wheels for collected packages: fancyimpute, knnimpute, cvxpy, np-utils, ecos, scs, multiprocess, fastcache\n",
            "  Running setup.py bdist_wheel for fancyimpute ... \u001b[?25l-\b \bdone\n",
            "\u001b[?25h  Stored in directory: /root/.cache/pip/wheels/9d/a6/78/ccd4c1d13026cc3a401ec7ce76e9916037d6a84bb70f054fb7\n",
            "  Running setup.py bdist_wheel for knnimpute ... \u001b[?25l-\b \bdone\n",
            "\u001b[?25h  Stored in directory: /root/.cache/pip/wheels/a3/92/31/c3f8864714e9938396c3a68d8c542531f7e2d7862bb750b2e3\n",
            "  Running setup.py bdist_wheel for cvxpy ... \u001b[?25l-\b \b\\\b \b|\b \b/\b \b-\b \b\\\b \b|\b \b/\b \b-\b \b\\\b \b|\b \b/\b \b-\b \b\\\b \b|\b \b/\b \b-\b \b\\\b \b|\b \b/\b \b-\b \b\\\b \b|\b \b/\b \b-\b \b\\\b \b|\b \b/\b \b-\b \b\\\b \b|\b \b/\b \b-\b \bdone\n",
            "\u001b[?25h  Stored in directory: /root/.cache/pip/wheels/10/e3/64/e65da213c6af18e1fd78d51482236a85207ff25962146e302f\n",
            "  Running setup.py bdist_wheel for np-utils ... \u001b[?25l-\b \bdone\n",
            "\u001b[?25h  Stored in directory: /root/.cache/pip/wheels/f6/2f/39/57e6dd40ac49b4824c1b4430aea787b3397a4a3f389ec56dfb\n",
            "  Running setup.py bdist_wheel for ecos ... \u001b[?25l-\b \b\\\b \b|\b \b/\b \b-\b \b\\\b \b|\b \b/\b \b-\b \b\\\b \b|\b \b/\b \b-\b \b\\\b \b|\b \b/\b \b-\b \b\\\b \b|\b \b/\b \b-\b \bdone\n",
            "\u001b[?25h  Stored in directory: /root/.cache/pip/wheels/50/91/1b/568de3c087b3399b03d130e71b1fd048ec072c45f72b6b6e9a\n",
            "  Running setup.py bdist_wheel for scs ... \u001b[?25l-\b \b\\\b \b|\b \b/\b \b-\b \b\\\b \b|\b \b/\b \b-\b \b\\\b \b|\b \b/\b \b-\b \b\\\b \b|\b \b/\b \b-\b \b\\\b \b|\b \b/\b \b-\b \b\\\b \b|\b \b/\b \b-\b \b\\\b \b|\b \b/\b \b-\b \b\\\b \b|\b \b/\b \b-\b \b\\\b \b|\b \bdone\n",
            "\u001b[?25h  Stored in directory: /root/.cache/pip/wheels/ff/f0/aa/530ccd478d7d9900b4e9ef5bc5a39e895ce110bed3d3ac653e\n",
            "  Running setup.py bdist_wheel for multiprocess ... \u001b[?25l-\b \b\\\b \b|\b \b/\b \b-\b \bdone\n",
            "\u001b[?25h  Stored in directory: /root/.cache/pip/wheels/8b/36/e5/96614ab62baf927e9bc06889ea794a8e87552b84bb6bf65e3e\n",
            "  Running setup.py bdist_wheel for fastcache ... \u001b[?25l-\b \b\\\b \bdone\n",
            "\u001b[?25h  Stored in directory: /root/.cache/pip/wheels/b7/90/c0/da92ac52d188d9ebca577044e89a14d0e6ff333c1bcd1ebc14\n",
            "Successfully built fancyimpute knnimpute cvxpy np-utils ecos scs multiprocess fastcache\n",
            "Installing collected packages: knnimpute, osqp, ecos, scs, multiprocess, fastcache, cvxpy, np-utils, fancyimpute\n",
            "Successfully installed cvxpy-1.0.8 ecos-2.0.5 fancyimpute-0.4.0 fastcache-1.0.2 knnimpute-0.1.0 multiprocess-0.70.6.1 np-utils-0.5.5.2 osqp-0.4.1 scs-2.0.2\n"
          ],
          "name": "stdout"
        }
      ]
    },
    {
      "metadata": {
        "id": "xrupBG6jDoDE",
        "colab_type": "code",
        "colab": {}
      },
      "cell_type": "code",
      "source": [
        "train_df= df.drop([\"application_key\", \"default_ind\"], axis=1)"
      ],
      "execution_count": 0,
      "outputs": []
    },
    {
      "metadata": {
        "id": "wydheiYDEq6c",
        "colab_type": "code",
        "colab": {
          "base_uri": "https://localhost:8080/",
          "height": 233
        },
        "outputId": "db9c3c22-7284-4b53-9f7c-a3f69bab2092"
      },
      "cell_type": "code",
      "source": [
        "train_df.head()"
      ],
      "execution_count": 31,
      "outputs": [
        {
          "output_type": "execute_result",
          "data": {
            "text/html": [
              "<div>\n",
              "<style scoped>\n",
              "    .dataframe tbody tr th:only-of-type {\n",
              "        vertical-align: middle;\n",
              "    }\n",
              "\n",
              "    .dataframe tbody tr th {\n",
              "        vertical-align: top;\n",
              "    }\n",
              "\n",
              "    .dataframe thead th {\n",
              "        text-align: right;\n",
              "    }\n",
              "</style>\n",
              "<table border=\"1\" class=\"dataframe\">\n",
              "  <thead>\n",
              "    <tr style=\"text-align: right;\">\n",
              "      <th></th>\n",
              "      <th>mvar1</th>\n",
              "      <th>mvar2</th>\n",
              "      <th>mvar3</th>\n",
              "      <th>mvar4</th>\n",
              "      <th>mvar5</th>\n",
              "      <th>mvar6</th>\n",
              "      <th>mvar7</th>\n",
              "      <th>mvar8</th>\n",
              "      <th>mvar9</th>\n",
              "      <th>mvar10</th>\n",
              "      <th>...</th>\n",
              "      <th>mvar38</th>\n",
              "      <th>mvar39</th>\n",
              "      <th>mvar40</th>\n",
              "      <th>mvar41</th>\n",
              "      <th>mvar42</th>\n",
              "      <th>mvar43</th>\n",
              "      <th>mvar44</th>\n",
              "      <th>mvar45</th>\n",
              "      <th>mvar46</th>\n",
              "      <th>mvar47</th>\n",
              "    </tr>\n",
              "  </thead>\n",
              "  <tbody>\n",
              "    <tr>\n",
              "      <th>0</th>\n",
              "      <td>1696.0</td>\n",
              "      <td>1.6541</td>\n",
              "      <td>0.000</td>\n",
              "      <td>0.0</td>\n",
              "      <td>0.0</td>\n",
              "      <td>0.0</td>\n",
              "      <td>6015.0</td>\n",
              "      <td>322.0</td>\n",
              "      <td>40369.0</td>\n",
              "      <td>18414.0</td>\n",
              "      <td>...</td>\n",
              "      <td>4.0</td>\n",
              "      <td>1.0</td>\n",
              "      <td>73.780</td>\n",
              "      <td>82.547</td>\n",
              "      <td>0.08696</td>\n",
              "      <td>10.0</td>\n",
              "      <td>0.63899</td>\n",
              "      <td>NaN</td>\n",
              "      <td>0.0</td>\n",
              "      <td>0</td>\n",
              "    </tr>\n",
              "    <tr>\n",
              "      <th>1</th>\n",
              "      <td>1846.0</td>\n",
              "      <td>0.8095</td>\n",
              "      <td>0.000</td>\n",
              "      <td>0.0</td>\n",
              "      <td>0.0</td>\n",
              "      <td>102.0</td>\n",
              "      <td>7532.0</td>\n",
              "      <td>3171.0</td>\n",
              "      <td>18234.0</td>\n",
              "      <td>13664.0</td>\n",
              "      <td>...</td>\n",
              "      <td>2.0</td>\n",
              "      <td>0.0</td>\n",
              "      <td>99.129</td>\n",
              "      <td>NaN</td>\n",
              "      <td>0.00000</td>\n",
              "      <td>13.0</td>\n",
              "      <td>0.63836</td>\n",
              "      <td>NaN</td>\n",
              "      <td>NaN</td>\n",
              "      <td>1</td>\n",
              "    </tr>\n",
              "    <tr>\n",
              "      <th>2</th>\n",
              "      <td>1745.0</td>\n",
              "      <td>0.4001</td>\n",
              "      <td>0.000</td>\n",
              "      <td>0.0</td>\n",
              "      <td>0.0</td>\n",
              "      <td>NaN</td>\n",
              "      <td>2536.0</td>\n",
              "      <td>NaN</td>\n",
              "      <td>NaN</td>\n",
              "      <td>2536.0</td>\n",
              "      <td>...</td>\n",
              "      <td>1.0</td>\n",
              "      <td>0.0</td>\n",
              "      <td>NaN</td>\n",
              "      <td>29.290</td>\n",
              "      <td>0.00000</td>\n",
              "      <td>1.0</td>\n",
              "      <td>1.00000</td>\n",
              "      <td>NaN</td>\n",
              "      <td>0.0</td>\n",
              "      <td>0</td>\n",
              "    </tr>\n",
              "    <tr>\n",
              "      <th>3</th>\n",
              "      <td>1739.0</td>\n",
              "      <td>0.2193</td>\n",
              "      <td>0.000</td>\n",
              "      <td>0.0</td>\n",
              "      <td>0.0</td>\n",
              "      <td>1982.0</td>\n",
              "      <td>26440.0</td>\n",
              "      <td>4955.0</td>\n",
              "      <td>20316.0</td>\n",
              "      <td>37013.0</td>\n",
              "      <td>...</td>\n",
              "      <td>2.0</td>\n",
              "      <td>0.0</td>\n",
              "      <td>96.272</td>\n",
              "      <td>NaN</td>\n",
              "      <td>0.15385</td>\n",
              "      <td>3.0</td>\n",
              "      <td>0.53241</td>\n",
              "      <td>0.0</td>\n",
              "      <td>0.0</td>\n",
              "      <td>1</td>\n",
              "    </tr>\n",
              "    <tr>\n",
              "      <th>4</th>\n",
              "      <td>1787.0</td>\n",
              "      <td>0.0118</td>\n",
              "      <td>0.225</td>\n",
              "      <td>0.0</td>\n",
              "      <td>0.0</td>\n",
              "      <td>5451.0</td>\n",
              "      <td>5494.0</td>\n",
              "      <td>5494.0</td>\n",
              "      <td>7987.0</td>\n",
              "      <td>4696.0</td>\n",
              "      <td>...</td>\n",
              "      <td>2.0</td>\n",
              "      <td>0.0</td>\n",
              "      <td>115.019</td>\n",
              "      <td>NaN</td>\n",
              "      <td>0.00000</td>\n",
              "      <td>1.0</td>\n",
              "      <td>0.92665</td>\n",
              "      <td>NaN</td>\n",
              "      <td>NaN</td>\n",
              "      <td>1</td>\n",
              "    </tr>\n",
              "  </tbody>\n",
              "</table>\n",
              "<p>5 rows × 47 columns</p>\n",
              "</div>"
            ],
            "text/plain": [
              "    mvar1   mvar2  mvar3  mvar4  mvar5   mvar6    mvar7   mvar8    mvar9  \\\n",
              "0  1696.0  1.6541  0.000    0.0    0.0     0.0   6015.0   322.0  40369.0   \n",
              "1  1846.0  0.8095  0.000    0.0    0.0   102.0   7532.0  3171.0  18234.0   \n",
              "2  1745.0  0.4001  0.000    0.0    0.0     NaN   2536.0     NaN      NaN   \n",
              "3  1739.0  0.2193  0.000    0.0    0.0  1982.0  26440.0  4955.0  20316.0   \n",
              "4  1787.0  0.0118  0.225    0.0    0.0  5451.0   5494.0  5494.0   7987.0   \n",
              "\n",
              "    mvar10   ...    mvar38  mvar39   mvar40  mvar41   mvar42  mvar43   mvar44  \\\n",
              "0  18414.0   ...       4.0     1.0   73.780  82.547  0.08696    10.0  0.63899   \n",
              "1  13664.0   ...       2.0     0.0   99.129     NaN  0.00000    13.0  0.63836   \n",
              "2   2536.0   ...       1.0     0.0      NaN  29.290  0.00000     1.0  1.00000   \n",
              "3  37013.0   ...       2.0     0.0   96.272     NaN  0.15385     3.0  0.53241   \n",
              "4   4696.0   ...       2.0     0.0  115.019     NaN  0.00000     1.0  0.92665   \n",
              "\n",
              "   mvar45  mvar46  mvar47  \n",
              "0     NaN     0.0       0  \n",
              "1     NaN     NaN       1  \n",
              "2     NaN     0.0       0  \n",
              "3     0.0     0.0       1  \n",
              "4     NaN     NaN       1  \n",
              "\n",
              "[5 rows x 47 columns]"
            ]
          },
          "metadata": {
            "tags": []
          },
          "execution_count": 31
        }
      ]
    },
    {
      "metadata": {
        "id": "PbeD9rgtE8NE",
        "colab_type": "code",
        "colab": {}
      },
      "cell_type": "code",
      "source": [
        "from fancyimpute import IterativeImputer"
      ],
      "execution_count": 0,
      "outputs": []
    },
    {
      "metadata": {
        "id": "juX213jHFCxr",
        "colab_type": "code",
        "colab": {}
      },
      "cell_type": "code",
      "source": [
        "train_df_cols= list(train_df)"
      ],
      "execution_count": 0,
      "outputs": []
    },
    {
      "metadata": {
        "id": "pOxS7BXeFGpN",
        "colab_type": "code",
        "colab": {}
      },
      "cell_type": "code",
      "source": [
        "imputer = IterativeImputer(n_iter=50, sample_posterior=True, random_state=123)"
      ],
      "execution_count": 0,
      "outputs": []
    },
    {
      "metadata": {
        "id": "Rjxhgw5uFfjz",
        "colab_type": "code",
        "colab": {
          "base_uri": "https://localhost:8080/",
          "height": 54
        },
        "outputId": "c5d33c4a-2ed7-4ada-a273-07cfbaef4428"
      },
      "cell_type": "code",
      "source": [
        "imputer.fit(train_df)"
      ],
      "execution_count": 37,
      "outputs": [
        {
          "output_type": "execute_result",
          "data": {
            "text/plain": [
              "IterativeImputer(_max_value=nan, _min_value=nan, fill_method='zero', imputation_order='ascending', initial_strategy='mean', max_value=None, min_value=None, missing_values=nan, n_features_with_missing_=45, n_iter=50, n_nearest_features=None, normalizer=None, predictor=None, random_state=123, sample_posterior=True, verbose=False)"
            ]
          },
          "metadata": {
            "tags": []
          },
          "execution_count": 37
        }
      ]
    },
    {
      "metadata": {
        "id": "We5z-JPgFuib",
        "colab_type": "code",
        "colab": {}
      },
      "cell_type": "code",
      "source": [
        "X_filled_ii = imputer.transform(train_df)"
      ],
      "execution_count": 0,
      "outputs": []
    },
    {
      "metadata": {
        "id": "zQczIju2T6ok",
        "colab_type": "code",
        "colab": {}
      },
      "cell_type": "code",
      "source": [
        "X= pd.DataFrame(X_filled_ii)"
      ],
      "execution_count": 0,
      "outputs": []
    },
    {
      "metadata": {
        "id": "fg6eDlekUVft",
        "colab_type": "code",
        "colab": {}
      },
      "cell_type": "code",
      "source": [
        "X.columns= train_df_cols"
      ],
      "execution_count": 0,
      "outputs": []
    },
    {
      "metadata": {
        "id": "2YkhDYf_UmEt",
        "colab_type": "code",
        "colab": {
          "base_uri": "https://localhost:8080/",
          "height": 233
        },
        "outputId": "8c0dc02b-a52d-4bbe-a8f0-a98ffa738a40"
      },
      "cell_type": "code",
      "source": [
        "X.head()"
      ],
      "execution_count": 45,
      "outputs": [
        {
          "output_type": "execute_result",
          "data": {
            "text/html": [
              "<div>\n",
              "<style scoped>\n",
              "    .dataframe tbody tr th:only-of-type {\n",
              "        vertical-align: middle;\n",
              "    }\n",
              "\n",
              "    .dataframe tbody tr th {\n",
              "        vertical-align: top;\n",
              "    }\n",
              "\n",
              "    .dataframe thead th {\n",
              "        text-align: right;\n",
              "    }\n",
              "</style>\n",
              "<table border=\"1\" class=\"dataframe\">\n",
              "  <thead>\n",
              "    <tr style=\"text-align: right;\">\n",
              "      <th></th>\n",
              "      <th>mvar1</th>\n",
              "      <th>mvar2</th>\n",
              "      <th>mvar3</th>\n",
              "      <th>mvar4</th>\n",
              "      <th>mvar5</th>\n",
              "      <th>mvar6</th>\n",
              "      <th>mvar7</th>\n",
              "      <th>mvar8</th>\n",
              "      <th>mvar9</th>\n",
              "      <th>mvar10</th>\n",
              "      <th>...</th>\n",
              "      <th>mvar38</th>\n",
              "      <th>mvar39</th>\n",
              "      <th>mvar40</th>\n",
              "      <th>mvar41</th>\n",
              "      <th>mvar42</th>\n",
              "      <th>mvar43</th>\n",
              "      <th>mvar44</th>\n",
              "      <th>mvar45</th>\n",
              "      <th>mvar46</th>\n",
              "      <th>mvar47</th>\n",
              "    </tr>\n",
              "  </thead>\n",
              "  <tbody>\n",
              "    <tr>\n",
              "      <th>0</th>\n",
              "      <td>1696.0</td>\n",
              "      <td>1.6541</td>\n",
              "      <td>0.000</td>\n",
              "      <td>0.0</td>\n",
              "      <td>0.0</td>\n",
              "      <td>0.0000</td>\n",
              "      <td>6015.0</td>\n",
              "      <td>322.00000</td>\n",
              "      <td>40369.000000</td>\n",
              "      <td>18414.0</td>\n",
              "      <td>...</td>\n",
              "      <td>4.0</td>\n",
              "      <td>1.0</td>\n",
              "      <td>73.780000</td>\n",
              "      <td>82.547000</td>\n",
              "      <td>0.08696</td>\n",
              "      <td>10.0</td>\n",
              "      <td>0.63899</td>\n",
              "      <td>-0.114472</td>\n",
              "      <td>0.000000</td>\n",
              "      <td>0.0</td>\n",
              "    </tr>\n",
              "    <tr>\n",
              "      <th>1</th>\n",
              "      <td>1846.0</td>\n",
              "      <td>0.8095</td>\n",
              "      <td>0.000</td>\n",
              "      <td>0.0</td>\n",
              "      <td>0.0</td>\n",
              "      <td>102.0000</td>\n",
              "      <td>7532.0</td>\n",
              "      <td>3171.00000</td>\n",
              "      <td>18234.000000</td>\n",
              "      <td>13664.0</td>\n",
              "      <td>...</td>\n",
              "      <td>2.0</td>\n",
              "      <td>0.0</td>\n",
              "      <td>99.129000</td>\n",
              "      <td>60.199535</td>\n",
              "      <td>0.00000</td>\n",
              "      <td>13.0</td>\n",
              "      <td>0.63836</td>\n",
              "      <td>-0.428812</td>\n",
              "      <td>0.072687</td>\n",
              "      <td>1.0</td>\n",
              "    </tr>\n",
              "    <tr>\n",
              "      <th>2</th>\n",
              "      <td>1745.0</td>\n",
              "      <td>0.4001</td>\n",
              "      <td>0.000</td>\n",
              "      <td>0.0</td>\n",
              "      <td>0.0</td>\n",
              "      <td>-3142.7789</td>\n",
              "      <td>2536.0</td>\n",
              "      <td>12664.82889</td>\n",
              "      <td>-17923.803633</td>\n",
              "      <td>2536.0</td>\n",
              "      <td>...</td>\n",
              "      <td>1.0</td>\n",
              "      <td>0.0</td>\n",
              "      <td>97.959154</td>\n",
              "      <td>29.290000</td>\n",
              "      <td>0.00000</td>\n",
              "      <td>1.0</td>\n",
              "      <td>1.00000</td>\n",
              "      <td>0.318693</td>\n",
              "      <td>0.000000</td>\n",
              "      <td>0.0</td>\n",
              "    </tr>\n",
              "    <tr>\n",
              "      <th>3</th>\n",
              "      <td>1739.0</td>\n",
              "      <td>0.2193</td>\n",
              "      <td>0.000</td>\n",
              "      <td>0.0</td>\n",
              "      <td>0.0</td>\n",
              "      <td>1982.0000</td>\n",
              "      <td>26440.0</td>\n",
              "      <td>4955.00000</td>\n",
              "      <td>20316.000000</td>\n",
              "      <td>37013.0</td>\n",
              "      <td>...</td>\n",
              "      <td>2.0</td>\n",
              "      <td>0.0</td>\n",
              "      <td>96.272000</td>\n",
              "      <td>53.074877</td>\n",
              "      <td>0.15385</td>\n",
              "      <td>3.0</td>\n",
              "      <td>0.53241</td>\n",
              "      <td>0.000000</td>\n",
              "      <td>0.000000</td>\n",
              "      <td>1.0</td>\n",
              "    </tr>\n",
              "    <tr>\n",
              "      <th>4</th>\n",
              "      <td>1787.0</td>\n",
              "      <td>0.0118</td>\n",
              "      <td>0.225</td>\n",
              "      <td>0.0</td>\n",
              "      <td>0.0</td>\n",
              "      <td>5451.0000</td>\n",
              "      <td>5494.0</td>\n",
              "      <td>5494.00000</td>\n",
              "      <td>7987.000000</td>\n",
              "      <td>4696.0</td>\n",
              "      <td>...</td>\n",
              "      <td>2.0</td>\n",
              "      <td>0.0</td>\n",
              "      <td>115.019000</td>\n",
              "      <td>73.581590</td>\n",
              "      <td>0.00000</td>\n",
              "      <td>1.0</td>\n",
              "      <td>0.92665</td>\n",
              "      <td>-0.046191</td>\n",
              "      <td>0.092353</td>\n",
              "      <td>1.0</td>\n",
              "    </tr>\n",
              "  </tbody>\n",
              "</table>\n",
              "<p>5 rows × 47 columns</p>\n",
              "</div>"
            ],
            "text/plain": [
              "    mvar1   mvar2  mvar3  mvar4  mvar5      mvar6    mvar7        mvar8  \\\n",
              "0  1696.0  1.6541  0.000    0.0    0.0     0.0000   6015.0    322.00000   \n",
              "1  1846.0  0.8095  0.000    0.0    0.0   102.0000   7532.0   3171.00000   \n",
              "2  1745.0  0.4001  0.000    0.0    0.0 -3142.7789   2536.0  12664.82889   \n",
              "3  1739.0  0.2193  0.000    0.0    0.0  1982.0000  26440.0   4955.00000   \n",
              "4  1787.0  0.0118  0.225    0.0    0.0  5451.0000   5494.0   5494.00000   \n",
              "\n",
              "          mvar9   mvar10   ...    mvar38  mvar39      mvar40     mvar41  \\\n",
              "0  40369.000000  18414.0   ...       4.0     1.0   73.780000  82.547000   \n",
              "1  18234.000000  13664.0   ...       2.0     0.0   99.129000  60.199535   \n",
              "2 -17923.803633   2536.0   ...       1.0     0.0   97.959154  29.290000   \n",
              "3  20316.000000  37013.0   ...       2.0     0.0   96.272000  53.074877   \n",
              "4   7987.000000   4696.0   ...       2.0     0.0  115.019000  73.581590   \n",
              "\n",
              "    mvar42  mvar43   mvar44    mvar45    mvar46  mvar47  \n",
              "0  0.08696    10.0  0.63899 -0.114472  0.000000     0.0  \n",
              "1  0.00000    13.0  0.63836 -0.428812  0.072687     1.0  \n",
              "2  0.00000     1.0  1.00000  0.318693  0.000000     0.0  \n",
              "3  0.15385     3.0  0.53241  0.000000  0.000000     1.0  \n",
              "4  0.00000     1.0  0.92665 -0.046191  0.092353     1.0  \n",
              "\n",
              "[5 rows x 47 columns]"
            ]
          },
          "metadata": {
            "tags": []
          },
          "execution_count": 45
        }
      ]
    },
    {
      "metadata": {
        "id": "Bo0QMIUsUtFo",
        "colab_type": "code",
        "colab": {}
      },
      "cell_type": "code",
      "source": [
        "df2=pd.concat([X, df.iloc[:,-1]], axis=1)"
      ],
      "execution_count": 0,
      "outputs": []
    },
    {
      "metadata": {
        "id": "vBueF66NU2eO",
        "colab_type": "code",
        "colab": {
          "base_uri": "https://localhost:8080/",
          "height": 140
        },
        "outputId": "811d6ec0-9387-4fb5-8b8c-dc221c828696"
      },
      "cell_type": "code",
      "source": [
        "df2.head(2)"
      ],
      "execution_count": 52,
      "outputs": [
        {
          "output_type": "execute_result",
          "data": {
            "text/html": [
              "<div>\n",
              "<style scoped>\n",
              "    .dataframe tbody tr th:only-of-type {\n",
              "        vertical-align: middle;\n",
              "    }\n",
              "\n",
              "    .dataframe tbody tr th {\n",
              "        vertical-align: top;\n",
              "    }\n",
              "\n",
              "    .dataframe thead th {\n",
              "        text-align: right;\n",
              "    }\n",
              "</style>\n",
              "<table border=\"1\" class=\"dataframe\">\n",
              "  <thead>\n",
              "    <tr style=\"text-align: right;\">\n",
              "      <th></th>\n",
              "      <th>mvar1</th>\n",
              "      <th>mvar2</th>\n",
              "      <th>mvar3</th>\n",
              "      <th>mvar4</th>\n",
              "      <th>mvar5</th>\n",
              "      <th>mvar6</th>\n",
              "      <th>mvar7</th>\n",
              "      <th>mvar8</th>\n",
              "      <th>mvar9</th>\n",
              "      <th>mvar10</th>\n",
              "      <th>...</th>\n",
              "      <th>mvar39</th>\n",
              "      <th>mvar40</th>\n",
              "      <th>mvar41</th>\n",
              "      <th>mvar42</th>\n",
              "      <th>mvar43</th>\n",
              "      <th>mvar44</th>\n",
              "      <th>mvar45</th>\n",
              "      <th>mvar46</th>\n",
              "      <th>mvar47</th>\n",
              "      <th>default_ind</th>\n",
              "    </tr>\n",
              "  </thead>\n",
              "  <tbody>\n",
              "    <tr>\n",
              "      <th>0</th>\n",
              "      <td>1696.0</td>\n",
              "      <td>1.6541</td>\n",
              "      <td>0.0</td>\n",
              "      <td>0.0</td>\n",
              "      <td>0.0</td>\n",
              "      <td>0.0</td>\n",
              "      <td>6015.0</td>\n",
              "      <td>322.0</td>\n",
              "      <td>40369.0</td>\n",
              "      <td>18414.0</td>\n",
              "      <td>...</td>\n",
              "      <td>1.0</td>\n",
              "      <td>73.780</td>\n",
              "      <td>82.547000</td>\n",
              "      <td>0.08696</td>\n",
              "      <td>10.0</td>\n",
              "      <td>0.63899</td>\n",
              "      <td>-0.114472</td>\n",
              "      <td>0.000000</td>\n",
              "      <td>0.0</td>\n",
              "      <td>0</td>\n",
              "    </tr>\n",
              "    <tr>\n",
              "      <th>1</th>\n",
              "      <td>1846.0</td>\n",
              "      <td>0.8095</td>\n",
              "      <td>0.0</td>\n",
              "      <td>0.0</td>\n",
              "      <td>0.0</td>\n",
              "      <td>102.0</td>\n",
              "      <td>7532.0</td>\n",
              "      <td>3171.0</td>\n",
              "      <td>18234.0</td>\n",
              "      <td>13664.0</td>\n",
              "      <td>...</td>\n",
              "      <td>0.0</td>\n",
              "      <td>99.129</td>\n",
              "      <td>60.199535</td>\n",
              "      <td>0.00000</td>\n",
              "      <td>13.0</td>\n",
              "      <td>0.63836</td>\n",
              "      <td>-0.428812</td>\n",
              "      <td>0.072687</td>\n",
              "      <td>1.0</td>\n",
              "      <td>1</td>\n",
              "    </tr>\n",
              "  </tbody>\n",
              "</table>\n",
              "<p>2 rows × 48 columns</p>\n",
              "</div>"
            ],
            "text/plain": [
              "    mvar1   mvar2  mvar3  mvar4  mvar5  mvar6   mvar7   mvar8    mvar9  \\\n",
              "0  1696.0  1.6541    0.0    0.0    0.0    0.0  6015.0   322.0  40369.0   \n",
              "1  1846.0  0.8095    0.0    0.0    0.0  102.0  7532.0  3171.0  18234.0   \n",
              "\n",
              "    mvar10     ...       mvar39  mvar40     mvar41   mvar42  mvar43   mvar44  \\\n",
              "0  18414.0     ...          1.0  73.780  82.547000  0.08696    10.0  0.63899   \n",
              "1  13664.0     ...          0.0  99.129  60.199535  0.00000    13.0  0.63836   \n",
              "\n",
              "     mvar45    mvar46  mvar47  default_ind  \n",
              "0 -0.114472  0.000000     0.0            0  \n",
              "1 -0.428812  0.072687     1.0            1  \n",
              "\n",
              "[2 rows x 48 columns]"
            ]
          },
          "metadata": {
            "tags": []
          },
          "execution_count": 52
        }
      ]
    },
    {
      "metadata": {
        "id": "gQjFrIJ1VTn3",
        "colab_type": "code",
        "colab": {
          "base_uri": "https://localhost:8080/",
          "height": 140
        },
        "outputId": "cc9708f8-6aac-44ac-8f5d-2b9d4b8be4de"
      },
      "cell_type": "code",
      "source": [
        "df.head(2)"
      ],
      "execution_count": 53,
      "outputs": [
        {
          "output_type": "execute_result",
          "data": {
            "text/html": [
              "<div>\n",
              "<style scoped>\n",
              "    .dataframe tbody tr th:only-of-type {\n",
              "        vertical-align: middle;\n",
              "    }\n",
              "\n",
              "    .dataframe tbody tr th {\n",
              "        vertical-align: top;\n",
              "    }\n",
              "\n",
              "    .dataframe thead th {\n",
              "        text-align: right;\n",
              "    }\n",
              "</style>\n",
              "<table border=\"1\" class=\"dataframe\">\n",
              "  <thead>\n",
              "    <tr style=\"text-align: right;\">\n",
              "      <th></th>\n",
              "      <th>application_key</th>\n",
              "      <th>mvar1</th>\n",
              "      <th>mvar2</th>\n",
              "      <th>mvar3</th>\n",
              "      <th>mvar4</th>\n",
              "      <th>mvar5</th>\n",
              "      <th>mvar6</th>\n",
              "      <th>mvar7</th>\n",
              "      <th>mvar8</th>\n",
              "      <th>mvar9</th>\n",
              "      <th>...</th>\n",
              "      <th>mvar39</th>\n",
              "      <th>mvar40</th>\n",
              "      <th>mvar41</th>\n",
              "      <th>mvar42</th>\n",
              "      <th>mvar43</th>\n",
              "      <th>mvar44</th>\n",
              "      <th>mvar45</th>\n",
              "      <th>mvar46</th>\n",
              "      <th>mvar47</th>\n",
              "      <th>default_ind</th>\n",
              "    </tr>\n",
              "  </thead>\n",
              "  <tbody>\n",
              "    <tr>\n",
              "      <th>0</th>\n",
              "      <td>230032</td>\n",
              "      <td>1696.0</td>\n",
              "      <td>1.6541</td>\n",
              "      <td>0.0</td>\n",
              "      <td>0.0</td>\n",
              "      <td>0.0</td>\n",
              "      <td>0.0</td>\n",
              "      <td>6015.0</td>\n",
              "      <td>322.0</td>\n",
              "      <td>40369.0</td>\n",
              "      <td>...</td>\n",
              "      <td>1.0</td>\n",
              "      <td>73.780</td>\n",
              "      <td>82.547</td>\n",
              "      <td>0.08696</td>\n",
              "      <td>10.0</td>\n",
              "      <td>0.63899</td>\n",
              "      <td>NaN</td>\n",
              "      <td>0.0</td>\n",
              "      <td>0</td>\n",
              "      <td>0</td>\n",
              "    </tr>\n",
              "    <tr>\n",
              "      <th>1</th>\n",
              "      <td>230033</td>\n",
              "      <td>1846.0</td>\n",
              "      <td>0.8095</td>\n",
              "      <td>0.0</td>\n",
              "      <td>0.0</td>\n",
              "      <td>0.0</td>\n",
              "      <td>102.0</td>\n",
              "      <td>7532.0</td>\n",
              "      <td>3171.0</td>\n",
              "      <td>18234.0</td>\n",
              "      <td>...</td>\n",
              "      <td>0.0</td>\n",
              "      <td>99.129</td>\n",
              "      <td>NaN</td>\n",
              "      <td>0.00000</td>\n",
              "      <td>13.0</td>\n",
              "      <td>0.63836</td>\n",
              "      <td>NaN</td>\n",
              "      <td>NaN</td>\n",
              "      <td>1</td>\n",
              "      <td>1</td>\n",
              "    </tr>\n",
              "  </tbody>\n",
              "</table>\n",
              "<p>2 rows × 49 columns</p>\n",
              "</div>"
            ],
            "text/plain": [
              "   application_key   mvar1   mvar2  mvar3  mvar4  mvar5  mvar6   mvar7  \\\n",
              "0           230032  1696.0  1.6541    0.0    0.0    0.0    0.0  6015.0   \n",
              "1           230033  1846.0  0.8095    0.0    0.0    0.0  102.0  7532.0   \n",
              "\n",
              "    mvar8    mvar9     ...       mvar39  mvar40  mvar41   mvar42  mvar43  \\\n",
              "0   322.0  40369.0     ...          1.0  73.780  82.547  0.08696    10.0   \n",
              "1  3171.0  18234.0     ...          0.0  99.129     NaN  0.00000    13.0   \n",
              "\n",
              "    mvar44  mvar45  mvar46  mvar47  default_ind  \n",
              "0  0.63899     NaN     0.0       0            0  \n",
              "1  0.63836     NaN     NaN       1            1  \n",
              "\n",
              "[2 rows x 49 columns]"
            ]
          },
          "metadata": {
            "tags": []
          },
          "execution_count": 53
        }
      ]
    },
    {
      "metadata": {
        "id": "EjoEJ38GVVGc",
        "colab_type": "code",
        "colab": {}
      },
      "cell_type": "code",
      "source": [
        "from sklearn.model_selection import train_test_split\n",
        "from sklearn.utils import resample"
      ],
      "execution_count": 0,
      "outputs": []
    },
    {
      "metadata": {
        "id": "vWrwW5KlV7kl",
        "colab_type": "code",
        "colab": {}
      },
      "cell_type": "code",
      "source": [
        "train ,test= train_test_split(df2, test_size=0.3)"
      ],
      "execution_count": 0,
      "outputs": []
    },
    {
      "metadata": {
        "id": "1KSWOvoEV_1W",
        "colab_type": "code",
        "colab": {
          "base_uri": "https://localhost:8080/",
          "height": 51
        },
        "outputId": "bc1fd8b6-abbf-4db3-f236-d1cf6d980200"
      },
      "cell_type": "code",
      "source": [
        "train_maj= train[train.default_ind==0]\n",
        "train_min= train[train.default_ind==1]\n",
        "\n",
        "\n",
        "print \"majority : \" + str(train_maj.shape)\n",
        "print \"minority : \" + str(train_min.shape)"
      ],
      "execution_count": 58,
      "outputs": [
        {
          "output_type": "stream",
          "text": [
            "majority : (42193, 48)\n",
            "minority : (13807, 48)\n"
          ],
          "name": "stdout"
        }
      ]
    },
    {
      "metadata": {
        "id": "ttLRF02sWLB9",
        "colab_type": "code",
        "colab": {}
      },
      "cell_type": "code",
      "source": [
        "train_majority_downsampled = resample(train_maj, \n",
        "                                 replace=False,    \n",
        "                                 n_samples=20000,     \n",
        "                                 random_state=123)\n",
        "train_minority_upsampled = resample(train_min, \n",
        "                                 replace=True,    \n",
        "                                 n_samples=16000,     \n",
        "                                 random_state=123)"
      ],
      "execution_count": 0,
      "outputs": []
    },
    {
      "metadata": {
        "id": "kVsB0np3WQPP",
        "colab_type": "code",
        "colab": {
          "base_uri": "https://localhost:8080/",
          "height": 34
        },
        "outputId": "b82544e8-9a80-47ee-e017-645b056221b6"
      },
      "cell_type": "code",
      "source": [
        "df3= pd.concat([train_majority_downsampled, train_minority_upsampled])\n",
        "df3.shape"
      ],
      "execution_count": 60,
      "outputs": [
        {
          "output_type": "execute_result",
          "data": {
            "text/plain": [
              "(36000, 48)"
            ]
          },
          "metadata": {
            "tags": []
          },
          "execution_count": 60
        }
      ]
    },
    {
      "metadata": {
        "id": "glwixE-1WSSs",
        "colab_type": "code",
        "colab": {}
      },
      "cell_type": "code",
      "source": [
        "\n",
        "X_train= df3.iloc[:, :-1]\n",
        "Y_train= df3.iloc[:, -1]\n",
        "X_test= test.iloc[:, :-1]\n",
        "Y_test= test.iloc[:, -1]"
      ],
      "execution_count": 0,
      "outputs": []
    },
    {
      "metadata": {
        "id": "GULcat41Whes",
        "colab_type": "text"
      },
      "cell_type": "markdown",
      "source": [
        ""
      ]
    },
    {
      "metadata": {
        "id": "b9_fug9MWUr1",
        "colab_type": "code",
        "colab": {}
      },
      "cell_type": "code",
      "source": [
        "from xgboost import XGBClassifier"
      ],
      "execution_count": 0,
      "outputs": []
    },
    {
      "metadata": {
        "id": "JJE0eFQvWXNl",
        "colab_type": "code",
        "colab": {}
      },
      "cell_type": "code",
      "source": [
        "\n",
        "xgb = XGBClassifier(n_estimators=100, max_depth=3, objective=\"binary:logistic\", learning_rate=0.1)"
      ],
      "execution_count": 0,
      "outputs": []
    },
    {
      "metadata": {
        "id": "PObNXasfWbLF",
        "colab_type": "code",
        "colab": {
          "base_uri": "https://localhost:8080/",
          "height": 119
        },
        "outputId": "8b7f5664-4ec8-4784-e9e0-f64273d2bfbc"
      },
      "cell_type": "code",
      "source": [
        "xgb.fit(X_train, Y_train)"
      ],
      "execution_count": 64,
      "outputs": [
        {
          "output_type": "execute_result",
          "data": {
            "text/plain": [
              "XGBClassifier(base_score=0.5, booster='gbtree', colsample_bylevel=1,\n",
              "       colsample_bytree=1, gamma=0, learning_rate=0.1, max_delta_step=0,\n",
              "       max_depth=3, min_child_weight=1, missing=None, n_estimators=100,\n",
              "       n_jobs=1, nthread=None, objective='binary:logistic', random_state=0,\n",
              "       reg_alpha=0, reg_lambda=1, scale_pos_weight=1, seed=None,\n",
              "       silent=True, subsample=1)"
            ]
          },
          "metadata": {
            "tags": []
          },
          "execution_count": 64
        }
      ]
    },
    {
      "metadata": {
        "id": "bsgAElcbWfXw",
        "colab_type": "code",
        "colab": {
          "base_uri": "https://localhost:8080/",
          "height": 71
        },
        "outputId": "feeee7a4-cb7c-4576-e29f-4354d5cd9ef2"
      },
      "cell_type": "code",
      "source": [
        "y_pred= xgb.predict(X_test)"
      ],
      "execution_count": 65,
      "outputs": [
        {
          "output_type": "stream",
          "text": [
            "/usr/local/lib/python2.7/dist-packages/sklearn/preprocessing/label.py:151: DeprecationWarning: The truth value of an empty array is ambiguous. Returning False, but in future this will result in an error. Use `array.size > 0` to check that an array is not empty.\n",
            "  if diff:\n"
          ],
          "name": "stderr"
        }
      ]
    },
    {
      "metadata": {
        "id": "yqAGgvM6Wiy2",
        "colab_type": "code",
        "colab": {}
      },
      "cell_type": "code",
      "source": [
        "from sklearn.metrics import confusion_matrix\n",
        "from sklearn.metrics import accuracy_score\n",
        "from sklearn.metrics import f1_score"
      ],
      "execution_count": 0,
      "outputs": []
    },
    {
      "metadata": {
        "id": "hVBfFQnjWldl",
        "colab_type": "code",
        "colab": {
          "base_uri": "https://localhost:8080/",
          "height": 51
        },
        "outputId": "4fdc2101-606a-4fc5-e299-bb49ddddd605"
      },
      "cell_type": "code",
      "source": [
        "confusion_matrix(y_pred, Y_test)"
      ],
      "execution_count": 67,
      "outputs": [
        {
          "output_type": "execute_result",
          "data": {
            "text/plain": [
              "array([[14073,  1636],\n",
              "       [ 4037,  4254]])"
            ]
          },
          "metadata": {
            "tags": []
          },
          "execution_count": 67
        }
      ]
    },
    {
      "metadata": {
        "id": "eI7tkVe7WnrC",
        "colab_type": "code",
        "colab": {
          "base_uri": "https://localhost:8080/",
          "height": 34
        },
        "outputId": "67c1599e-b762-40fa-cfc0-396de30dc535"
      },
      "cell_type": "code",
      "source": [
        "accuracy_score(y_pred, Y_test)"
      ],
      "execution_count": 68,
      "outputs": [
        {
          "output_type": "execute_result",
          "data": {
            "text/plain": [
              "0.763625"
            ]
          },
          "metadata": {
            "tags": []
          },
          "execution_count": 68
        }
      ]
    },
    {
      "metadata": {
        "id": "3xOr-62bWrO8",
        "colab_type": "code",
        "colab": {
          "base_uri": "https://localhost:8080/",
          "height": 34
        },
        "outputId": "f4a3214c-3f5c-400d-b0c5-53906f1c98c6"
      },
      "cell_type": "code",
      "source": [
        "f1_score(y_pred, Y_test)"
      ],
      "execution_count": 69,
      "outputs": [
        {
          "output_type": "execute_result",
          "data": {
            "text/plain": [
              "0.5999576898667232"
            ]
          },
          "metadata": {
            "tags": []
          },
          "execution_count": 69
        }
      ]
    },
    {
      "metadata": {
        "id": "IxyfNHhaWuD1",
        "colab_type": "code",
        "colab": {}
      },
      "cell_type": "code",
      "source": [
        ""
      ],
      "execution_count": 0,
      "outputs": []
    }
  ]
}